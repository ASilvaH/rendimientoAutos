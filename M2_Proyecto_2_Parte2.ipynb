{
  "nbformat": 4,
  "nbformat_minor": 0,
  "metadata": {
    "colab": {
      "provenance": [],
      "collapsed_sections": []
    },
    "kernelspec": {
      "name": "python3",
      "display_name": "Python 3"
    },
    "language_info": {
      "name": "python"
    }
  },
  "cells": [
    {
      "cell_type": "code",
      "execution_count": null,
      "metadata": {
        "id": "lFplpm9lktnf"
      },
      "outputs": [],
      "source": [
        "# Se importa drive para acceder a los repositorios de datos en Google Drive\n",
        "from google.colab import drive\n",
        "drive.mount('/content/drive')"
      ]
    },
    {
      "cell_type": "code",
      "source": [
        "# Se importan las distintas librerías que sse usarán\n",
        "\n",
        "import pandas as pd\n",
        "import matplotlib.pyplot as plt \n",
        "import numpy as np\n",
        "import seaborn as sns\n",
        "from sklearn.preprocessing import StandardScaler, OneHotEncoder\n",
        "from sklearn.impute import SimpleImputer\n",
        "from sklearn.compose import make_column_transformer, make_column_selector\n",
        "from sklearn.pipeline import make_pipeline\n",
        "from sklearn.model_selection import train_test_split\n",
        "from sklearn import set_config\n",
        "set_config(display='diagram')"
      ],
      "metadata": {
        "id": "T7tjlysDXtP1"
      },
      "execution_count": 47,
      "outputs": []
    },
    {
      "cell_type": "code",
      "source": [
        "# Se crea el dataframe y se toman los datos desde un archivo de extensión csv que tengo en Drive\n",
        "\n",
        "filename = '/content/drive/MyDrive/CargaData/CargaML/cars.csv'\n",
        "dfAutos = pd.read_csv(filename)"
      ],
      "metadata": {
        "id": "cjcAM6ToXtRq"
      },
      "execution_count": 53,
      "outputs": []
    },
    {
      "cell_type": "code",
      "source": [
        "# Se agregaron los nombres de las columnas ya que que no venían\n",
        "dfAutos.columns =['mpg', 'cylinders', 'displacement', 'horsepower', 'weight', 'acceleration', 'model year', 'origin', 'brand'] \n",
        "dfAutos.head()"
      ],
      "metadata": {
        "id": "IqH7CdE0XtU_"
      },
      "execution_count": null,
      "outputs": []
    },
    {
      "cell_type": "code",
      "source": [
        "# Vemos toda la información relacionada a la cantidad de filas y columnas, tipos de dato, nombres de columnas y si hay datos nulos \n",
        "dfAutos.info()"
      ],
      "metadata": {
        "colab": {
          "base_uri": "https://localhost:8080/"
        },
        "id": "Ezwqg7oFYo9h",
        "outputId": "d5064d79-5197-4f1d-f52e-87fe0e5ddc06"
      },
      "execution_count": 79,
      "outputs": [
        {
          "output_type": "stream",
          "name": "stdout",
          "text": [
            "<class 'pandas.core.frame.DataFrame'>\n",
            "Int64Index: 390 entries, 0 to 396\n",
            "Data columns (total 9 columns):\n",
            " #   Column        Non-Null Count  Dtype  \n",
            "---  ------        --------------  -----  \n",
            " 0   mpg           390 non-null    float64\n",
            " 1   cylinders     390 non-null    int64  \n",
            " 2   displacement  390 non-null    float64\n",
            " 3   horsepower    390 non-null    int64  \n",
            " 4   weight        390 non-null    int64  \n",
            " 5   acceleration  390 non-null    float64\n",
            " 6   model year    390 non-null    int64  \n",
            " 7   origin        390 non-null    int64  \n",
            " 8   brand         390 non-null    object \n",
            "dtypes: float64(3), int64(5), object(1)\n",
            "memory usage: 30.5+ KB\n"
          ]
        }
      ]
    },
    {
      "cell_type": "code",
      "source": [
        "# Se revisaron los datos y se identificó que en la columna venía un caracter extraño. Era el caracter ?. Se hizo un replace por cero y después se convirtió el tipo de dato a int 64.\n",
        "dfAutos['horsepower'] = dfAutos['horsepower'].replace('?', 0)\n",
        "dfAutos['horsepower'] = dfAutos['horsepower'].astype('int64')"
      ],
      "metadata": {
        "id": "WsTZ9wMBZred"
      },
      "execution_count": 56,
      "outputs": []
    },
    {
      "cell_type": "code",
      "source": [
        "# En este dataset los datos iguales a cero se interpretan como falta de información por la naturaleza de los datos y considerar ceros en los datos sería un error que entregaría resultados basados en premisas erróneas. \n",
        "# Ej. Un auto no puede tener 0 cilindro o una cilindrada de 0. Tampoco puede tener 0 caballos de fuerza ni tiempo de aceleración de 0 a 60 mph de 0 segundos. \n",
        "# Por lo anterior, se revisaron una a una las columnas en busca de datos en cero y los resultados fueron los siguientes:\n",
        "\n",
        "datosCero = dfAutos[dfAutos['mpg'] == 0] # NO HAY\n",
        "datosCero = dfAutos[dfAutos['cylinders'] == 0] # NO HAY\n",
        "datosCero = dfAutos[dfAutos['displacement'] == 0] # NO HAY\n",
        "datosCero = dfAutos[dfAutos['horsepower'] == 0] # 6\n",
        "datosCero = dfAutos[dfAutos['weight'] == 0] # NO HAY\n",
        "datosCero = dfAutos[dfAutos['acceleration'] == 0] # NO HAY\n",
        "datosCero = dfAutos[dfAutos['model year'] == 0] # NO HAY\n",
        "datosCero = dfAutos[dfAutos['origin'] == 0] # NO HAY\n",
        "\n",
        "dfAutos = dfAutos[dfAutos['horsepower'] != 0]\n",
        "dfAutos\n",
        "# Solo en la columna horsepower habían ceros por el replace del caracter extraño hecho anteriormente. A continuación esos datos se eliminaron para no afectar el conjunto de datos.\n",
        "# Se eliminó el 1,51% de los datos, quedando para análisis el 98,49% (391 filas)\n"
      ],
      "metadata": {
        "id": "g3g0nRNvkwda"
      },
      "execution_count": null,
      "outputs": []
    },
    {
      "cell_type": "code",
      "source": [
        "# Se detectó 1 fila repetida. El 91% de los datos son iguales, siendo la única diferencia el año. La fila se elimina.\n",
        "\n",
        "dfAutos = dfAutos[~((dfAutos['mpg'] == 27) & (dfAutos['cylinders'] == 4) & (dfAutos['displacement'] == 97) & (dfAutos['horsepower'] == 88) & (dfAutos['weight'] == 2130) & (dfAutos['acceleration'] == 14.5) & (dfAutos['model year'] == 71))]\n",
        "dfAutos.info()"
      ],
      "metadata": {
        "id": "CPW1-36lHB9d"
      },
      "execution_count": null,
      "outputs": []
    },
    {
      "cell_type": "markdown",
      "source": [
        "Todas las columnas numéricas quedaron con tipo de dato numérico (int o float) y se eliminaron los datos cero, limpiando de esa manera los datos. Ahora, el dataframe está listo para continuar trabajando en él.  "
      ],
      "metadata": {
        "id": "gHxBViGVoAOX"
      }
    },
    {
      "cell_type": "code",
      "source": [
        "# Se crean dos variables para separar los datos de la matriz y los datos de la columna Target u Objetivo \n",
        "\n",
        "X = dfAutos.drop(columns = ['mpg']) # MATRIZ\n",
        "y = dfAutos['mpg'] # TARGET U OBJETIVO\n",
        "\n",
        "# Se hace train test split en los datos. Se utiliza el número 42 por coherencia.\n",
        "X_train, X_test, y_train, y_test = train_test_split(X, y, random_state=42) # LOS DATOS YA ESTÁN DIVIDIDOS EN TRAIN Y TEST PARA LA MATRIZ X Y PARA EL GRUPO TARGET Y"
      ],
      "metadata": {
        "id": "saseCgj_K5rz"
      },
      "execution_count": 80,
      "outputs": []
    },
    {
      "cell_type": "code",
      "source": [
        "# Se crean selectores identificando las columnas de categorías y las numéricas\n",
        "cat_selector = make_column_selector(dtype_include='object')\n",
        "num_selector = make_column_selector(dtype_include='number')\n",
        "\n",
        "# LOS DATOS YA FUERON LIMPIADOS Y NO HAY DATOS EN BLANCO, FALTANTES O EN CERO, POR LO TANTO NO ES NECESARIO AGREGAR IMPUTERS \n",
        "# Imputers: Más frecuente y Media\n",
        "# freq_imputer = SimpleImputer(strategy='most_frequent')\n",
        "# mean_imputer = SimpleImputer(strategy='mean')\n",
        "\n",
        "# Scaler\n",
        "scaler = StandardScaler()\n",
        "\n",
        "# One-hot encoder\n",
        "ohe = OneHotEncoder(handle_unknown='ignore', sparse=False)"
      ],
      "metadata": {
        "id": "io_odHnOL52y"
      },
      "execution_count": 81,
      "outputs": []
    },
    {
      "cell_type": "code",
      "source": [
        "# Pipelines Numéricos\n",
        "numeric_pipe = make_pipeline(scaler)\n",
        "numeric_pipe"
      ],
      "metadata": {
        "id": "x_j_Vg2QMIMG"
      },
      "execution_count": null,
      "outputs": []
    },
    {
      "cell_type": "code",
      "source": [
        "# Pipelines de Categorías\n",
        "categorical_pipe = make_pipeline(ohe)\n",
        "categorical_pipe"
      ],
      "metadata": {
        "id": "vaV6EbtIMIOg"
      },
      "execution_count": null,
      "outputs": []
    },
    {
      "cell_type": "code",
      "source": [
        "# Tuples para Column Transformer\n",
        "number_tuple = (numeric_pipe, num_selector)\n",
        "category_tuple = (categorical_pipe, cat_selector)\n",
        "\n",
        "# ColumnTransformer\n",
        "preprocessor = make_column_transformer(number_tuple, category_tuple, remainder = 'passthrough')\n",
        "preprocessor"
      ],
      "metadata": {
        "id": "w31RFfyoMIR6"
      },
      "execution_count": null,
      "outputs": []
    },
    {
      "cell_type": "code",
      "source": [
        "#Transformando datos\n",
        "preprocessor.fit(X_train)\n",
        "\n",
        "# transform train and test\n",
        "X_train_processed = preprocessor.transform(X_train)\n",
        "X_test_processed = preprocessor.transform(X_test)"
      ],
      "metadata": {
        "id": "fTD5YHXUMfEl"
      },
      "execution_count": 85,
      "outputs": []
    },
    {
      "cell_type": "code",
      "source": [
        "# Comprobar que los datos se escalen y tengan una codificación one-hot\n",
        "\n",
        "print('All data in X_train_processed are', X_train_processed.dtype)\n",
        "print('All data in X_test_processed are', X_test_processed.dtype)\n",
        "print('Shape of data is', X_train_processed.shape, '\\n')\n",
        "print('DATOS TRAIN PROCESADOS', X_train_processed, '\\n')\n",
        "print('DATOS TEST PROCESADOS ', X_test_processed)"
      ],
      "metadata": {
        "id": "UDaVcasnMkpn"
      },
      "execution_count": null,
      "outputs": []
    },
    {
      "cell_type": "code",
      "source": [
        "# Mapa de Calor\n",
        "\n",
        "# Se calcula la correlación\n",
        "corr = dfAutos.corr()\n",
        "\n",
        "# Se crea el mapa de calor\n",
        "plt.figure(figsize = (8,8))\n",
        "plt.title('CARS HEATMAP')\n",
        "sns.heatmap(corr, cmap = 'Greens', annot = True);"
      ],
      "metadata": {
        "colab": {
          "base_uri": "https://localhost:8080/",
          "height": 556
        },
        "id": "_p22J5ijTMOv",
        "outputId": "6a10737b-8a12-4153-f4e5-c513332d4116"
      },
      "execution_count": 91,
      "outputs": [
        {
          "output_type": "display_data",
          "data": {
            "text/plain": [
              "<Figure size 576x576 with 2 Axes>"
            ],
            "image/png": "[encoded data removed]"
          },
          "metadata": {
            "needs_background": "light"
          }
        }
      ]
    },
    {
      "cell_type": "markdown",
      "source": [
        "Se interpreta del mapa que mpg (nuestra columna target) tiene una relación bastante fuerte con el número de cilindros, cilindrada, caballos de fuerza y peso del auto, por lo que se entiende que dichas columnas inciden directamente en las predicciones que se harán más adelante.\n",
        "\n",
        "En cambio, el año y la procedencia del auto tienen una relación bastante moderada, más cercanas a la columna aceleración que es la con menos incidencia. Esta última columna mencionada muestra una relativamente baja relación con la columna target."
      ],
      "metadata": {
        "id": "Zn8mJr5nUaQS"
      }
    },
    {
      "cell_type": "code",
      "source": [
        "# Revisión de datos atípicos\n",
        "\n",
        "plt.title('MILES PER GALLON BOXPLOT')\n",
        "dfAutos.boxplot(column = 'mpg');\n",
        "\n",
        "media = dfAutos['mpg'].mean() # 23.45076923076923\n",
        "mediana = dfAutos['mpg'].median() # 22.75\n",
        "#print('La media es ', media)\n",
        "#print('La mediana es ', mediana)"
      ],
      "metadata": {
        "colab": {
          "base_uri": "https://localhost:8080/",
          "height": 281
        },
        "id": "LhD5XLCuaWXw",
        "outputId": "dc497c23-3ece-474a-c147-cc22261f8037"
      },
      "execution_count": 92,
      "outputs": [
        {
          "output_type": "display_data",
          "data": {
            "text/plain": [
              "<Figure size 432x288 with 1 Axes>"
            ],
            "image/png": "[encoded data removed]"
          },
          "metadata": {
            "needs_background": "light"
          }
        }
      ]
    },
    {
      "cell_type": "markdown",
      "source": [
        "El boxplot muestra que es una distribución simétrica, dado que la mediana está dentro de la caja, dividiéndola en 2. En este caso, la media (23.45) es levemente mayor que la mediana (22.75) pero esa pequeña diferencia y la ubicación en la que se corta la caja indica que la distribución es prácticamente simétrica. \n",
        "\n",
        "Los bigotes de la caja indican los valores menor y mayor encontrados en la columna mpg. Como se aprecia, no se ven valores atípicos o fuera de rango.\n",
        "\n",
        "FUENTE: https://www.pgconocimiento.com/diagrama-boxplot/#:~:text=El%20Diagrama%20de%20Caja%20y,valores%20at%C3%ADpicos%20y%20comparar%20distribuciones"
      ],
      "metadata": {
        "id": "eVEuqYe2cE3p"
      }
    }
  ]
}