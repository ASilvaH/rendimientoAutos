{
  "nbformat": 4,
  "nbformat_minor": 0,
  "metadata": {
    "colab": {
      "provenance": [],
      "collapsed_sections": []
    },
    "kernelspec": {
      "name": "python3",
      "display_name": "Python 3"
    },
    "language_info": {
      "name": "python"
    }
  },
  "cells": [
    {
      "cell_type": "code",
      "execution_count": 1,
      "metadata": {
        "id": "lFplpm9lktnf",
        "colab": {
          "base_uri": "https://localhost:8080/"
        },
        "outputId": "82ecb168-1843-4ca8-df0d-2f7789de7bc4"
      },
      "outputs": [
        {
          "output_type": "stream",
          "name": "stdout",
          "text": [
            "Mounted at /content/drive\n"
          ]
        }
      ],
      "source": [
        "# Se importa drive para acceder a los repositorios de datos en Google Drive\n",
        "from google.colab import drive\n",
        "drive.mount('/content/drive')"
      ]
    },
    {
      "cell_type": "code",
      "source": [
        "# Se importan las distintas librerías que se usarán\n",
        "\n",
        "import pandas as pd\n",
        "import matplotlib.pyplot as plt \n",
        "import numpy as np\n",
        "import seaborn as sns\n",
        "from sklearn.preprocessing import StandardScaler, OneHotEncoder\n",
        "from sklearn.impute import SimpleImputer\n",
        "from sklearn.compose import make_column_transformer, make_column_selector\n",
        "from sklearn.pipeline import make_pipeline\n",
        "from sklearn.model_selection import train_test_split\n",
        "from sklearn import set_config\n",
        "set_config(display='diagram')\n",
        "import scipy.cluster.hierarchy as sch\n",
        "from sklearn.cluster import KMeans\n",
        "from sklearn.metrics import silhouette_score\n",
        "from tensorflow.keras.models import Sequential\n",
        "from tensorflow.keras.layers import Dense\n",
        "from tensorflow.keras.regularizers import l2\n",
        "from tensorflow.keras.callbacks import EarlyStopping\n",
        "from sklearn.decomposition import PCA\n",
        "from sklearn.neighbors import KNeighborsClassifier\n",
        "from tensorflow.keras import metrics\n",
        "from sklearn.tree import DecisionTreeRegressor\n",
        "from sklearn.linear_model import LinearRegression\n",
        "from sklearn.metrics import r2_score\n",
        "from sklearn.metrics import mean_absolute_error\n",
        "from sklearn.metrics import mean_squared_error"
      ],
      "metadata": {
        "id": "T7tjlysDXtP1"
      },
      "execution_count": 116,
      "outputs": []
    },
    {
      "cell_type": "code",
      "source": [
        "# Se crea el dataframe y se toman los datos desde un archivo de extensión csv que tengo en Drive\n",
        "\n",
        "filename = '/content/drive/MyDrive/CargaData/CargaML/cars.csv'\n",
        "dfAutos = pd.read_csv(filename)"
      ],
      "metadata": {
        "id": "cjcAM6ToXtRq"
      },
      "execution_count": 117,
      "outputs": []
    },
    {
      "cell_type": "code",
      "source": [
        "# Se agregaron los nombres de las columnas ya que que no venían\n",
        "dfAutos.columns =['mpg', 'cylinders', 'displacement', 'horsepower', 'weight', 'acceleration', 'model year', 'origin', 'brand'] \n",
        "dfAutos.head()"
      ],
      "metadata": {
        "id": "IqH7CdE0XtU_"
      },
      "execution_count": null,
      "outputs": []
    },
    {
      "cell_type": "code",
      "source": [
        "# Vemos toda la información relacionada a la cantidad de filas y columnas, tipos de dato, nombres de columnas y si hay datos nulos \n",
        "dfAutos.info()"
      ],
      "metadata": {
        "id": "Ezwqg7oFYo9h"
      },
      "execution_count": null,
      "outputs": []
    },
    {
      "cell_type": "code",
      "source": [
        "# Se revisaron los datos y se identificó que en la columna venía un caracter extraño. Era el caracter ?. Se hizo un replace por cero y después se convirtió el tipo de dato a int 64.\n",
        "dfAutos['horsepower'] = dfAutos['horsepower'].replace('?', 0)\n",
        "dfAutos['horsepower'] = dfAutos['horsepower'].astype('int64')"
      ],
      "metadata": {
        "id": "WsTZ9wMBZred"
      },
      "execution_count": 120,
      "outputs": []
    },
    {
      "cell_type": "code",
      "source": [
        "# En este dataset los datos iguales a cero se interpretan como falta de información por la naturaleza de los datos y considerar ceros en los datos sería un error que entregaría resultados basados en premisas erróneas. \n",
        "# Ej. Un auto no puede tener 0 cilindro o una cilindrada de 0. Tampoco puede tener 0 caballos de fuerza ni tiempo de aceleración de 0 a 60 mph de 0 segundos. \n",
        "# Por lo anterior, se revisaron una a una las columnas en busca de datos en cero y los resultados fueron los siguientes:\n",
        "\n",
        "datosCero = dfAutos[dfAutos['mpg'] == 0] # NO HAY\n",
        "datosCero = dfAutos[dfAutos['cylinders'] == 0] # NO HAY\n",
        "datosCero = dfAutos[dfAutos['displacement'] == 0] # NO HAY\n",
        "datosCero = dfAutos[dfAutos['horsepower'] == 0] # 6\n",
        "datosCero = dfAutos[dfAutos['weight'] == 0] # NO HAY\n",
        "datosCero = dfAutos[dfAutos['acceleration'] == 0] # NO HAY\n",
        "datosCero = dfAutos[dfAutos['model year'] == 0] # NO HAY\n",
        "datosCero = dfAutos[dfAutos['origin'] == 0] # NO HAY\n",
        "\n",
        "dfAutos = dfAutos[dfAutos['horsepower'] != 0]\n",
        "dfAutos\n",
        "# Solo en la columna horsepower habían ceros por el replace del caracter extraño hecho anteriormente. A continuación esos datos se eliminaron para no afectar el conjunto de datos.\n",
        "# Se eliminó el 1,51% de los datos, quedando para análisis el 98,49% (391 filas)\n"
      ],
      "metadata": {
        "id": "g3g0nRNvkwda"
      },
      "execution_count": null,
      "outputs": []
    },
    {
      "cell_type": "code",
      "source": [
        "# Se detectó 1 fila repetida. El 91% de los datos son iguales, siendo la única diferencia el año. La fila se elimina.\n",
        "\n",
        "dfAutos = dfAutos[~((dfAutos['mpg'] == 27) & (dfAutos['cylinders'] == 4) & (dfAutos['displacement'] == 97) & (dfAutos['horsepower'] == 88) & (dfAutos['weight'] == 2130) & (dfAutos['acceleration'] == 14.5) & (dfAutos['model year'] == 71))]\n",
        "dfAutos.info()"
      ],
      "metadata": {
        "id": "CPW1-36lHB9d"
      },
      "execution_count": null,
      "outputs": []
    },
    {
      "cell_type": "markdown",
      "source": [
        "Todas las columnas numéricas quedaron con tipo de dato numérico (int o float) y se eliminaron los datos cero, limpiando de esa manera los datos. Ahora, el dataframe está listo para continuar trabajando en él.  "
      ],
      "metadata": {
        "id": "gHxBViGVoAOX"
      }
    },
    {
      "cell_type": "code",
      "source": [
        "# Se crean dos variables para separar los datos de la matriz y los datos de la columna Target u Objetivo \n",
        "\n",
        "X = dfAutos.drop(columns = ['mpg']) # MATRIZ\n",
        "y = dfAutos['mpg'] # TARGET U OBJETIVO\n",
        "\n",
        "# Se hace train test split en los datos. Se utiliza el número 42 por coherencia.\n",
        "X_train_full, X_test, y_train_full, y_test = train_test_split(X, y, test_size=0.2, random_state=42)\n",
        "X_train, X_val, y_train, y_val = train_test_split(X_train_full, y_train_full, test_size=0.2, random_state=42) # Con grupo de datos de validación evitamos Data Leaking"
      ],
      "metadata": {
        "id": "saseCgj_K5rz"
      },
      "execution_count": 123,
      "outputs": []
    },
    {
      "cell_type": "code",
      "source": [
        "# Se crean selectores identificando las columnas de categorías y las numéricas\n",
        "cat_selector = make_column_selector(dtype_include='object')\n",
        "num_selector = make_column_selector(dtype_include='number')\n",
        "\n",
        "# LOS DATOS YA FUERON LIMPIADOS Y NO HAY DATOS EN BLANCO, FALTANTES O EN CERO, POR LO TANTO NO ES NECESARIO AGREGAR IMPUTERS \n",
        "# Imputers: Más frecuente y Media\n",
        "# freq_imputer = SimpleImputer(strategy='most_frequent')\n",
        "# mean_imputer = SimpleImputer(strategy='mean')\n",
        "\n",
        "# Scaler\n",
        "scaler = StandardScaler()\n",
        "\n",
        "# One-hot encoder\n",
        "ohe = OneHotEncoder(handle_unknown='ignore', sparse=False)"
      ],
      "metadata": {
        "id": "io_odHnOL52y"
      },
      "execution_count": 124,
      "outputs": []
    },
    {
      "cell_type": "code",
      "source": [
        "# Pipelines Numéricos\n",
        "numeric_pipe = make_pipeline(scaler)\n",
        "numeric_pipe"
      ],
      "metadata": {
        "id": "x_j_Vg2QMIMG"
      },
      "execution_count": null,
      "outputs": []
    },
    {
      "cell_type": "code",
      "source": [
        "# Pipelines de Categorías\n",
        "categorical_pipe = make_pipeline(ohe)\n",
        "categorical_pipe"
      ],
      "metadata": {
        "id": "vaV6EbtIMIOg"
      },
      "execution_count": null,
      "outputs": []
    },
    {
      "cell_type": "code",
      "source": [
        "# Tuples para Column Transformer\n",
        "number_tuple = (numeric_pipe, num_selector)\n",
        "category_tuple = (categorical_pipe, cat_selector)\n",
        "\n",
        "# ColumnTransformer\n",
        "preprocessor = make_column_transformer(number_tuple, category_tuple, remainder = 'passthrough')\n",
        "preprocessor"
      ],
      "metadata": {
        "id": "w31RFfyoMIR6"
      },
      "execution_count": null,
      "outputs": []
    },
    {
      "cell_type": "code",
      "source": [
        "#Transformando datos\n",
        "preprocessor.fit(X_train)\n",
        "\n",
        "# transform train and test\n",
        "X_train_processed = preprocessor.transform(X_train)\n",
        "X_test_processed = preprocessor.transform(X_test)\n"
      ],
      "metadata": {
        "id": "fTD5YHXUMfEl"
      },
      "execution_count": 128,
      "outputs": []
    },
    {
      "cell_type": "code",
      "source": [
        "# Comprobar que los datos se escalen y tengan una codificación one-hot\n",
        "\n",
        "print('All data in X_train_processed are', X_train_processed.dtype)\n",
        "print('All data in X_test_processed are', X_test_processed.dtype)\n",
        "print('Shape of data is', X_train_processed.shape, '\\n')\n",
        "print('DATOS TRAIN PROCESADOS', X_train_processed, '\\n')\n",
        "print('DATOS TEST PROCESADOS ', X_test_processed)"
      ],
      "metadata": {
        "id": "UDaVcasnMkpn"
      },
      "execution_count": null,
      "outputs": []
    },
    {
      "cell_type": "code",
      "source": [
        "plt.figure(figsize = (15, 5))\n",
        "sch.dendrogram(sch.linkage(X_train_processed, method = 'ward'))\n",
        "plt.xlabel('Data Points');"
      ],
      "metadata": {
        "colab": {
          "base_uri": "https://localhost:8080/",
          "height": 333
        },
        "id": "KMPRjS3YMuwD",
        "outputId": "32fef672-5b64-443c-846e-3d14972421d7"
      },
      "execution_count": 130,
      "outputs": [
        {
          "output_type": "display_data",
          "data": {
            "text/plain": [
              "<Figure size 1080x360 with 1 Axes>"
            ],
            "image/png": "[encoded data removed]"
          },
          "metadata": {
            "needs_background": "light"
          }
        }
      ]
    },
    {
      "cell_type": "code",
      "source": [
        "#Create an empty list of inertias\n",
        "inertias = []\n",
        "#Loop through k values between 2 and 10 and store the inertias in the list.\n",
        "for k in range(2,11):  \n",
        "    kmeans = KMeans(n_clusters=k)  \n",
        "    kmeans.fit(X_train_processed)  \n",
        "    inertias.append(kmeans.inertia_)\n",
        "#Visualize scores\n",
        "plt.plot(range(2,11), inertias, marker = '.')\n",
        "plt.xlabel('clusters')\n",
        "plt.ylabel('inertia');"
      ],
      "metadata": {
        "colab": {
          "base_uri": "https://localhost:8080/",
          "height": 283
        },
        "id": "Y1Rlbd9DVigW",
        "outputId": "86be79d8-560e-4f75-9ecd-5bddc2a40773"
      },
      "execution_count": 131,
      "outputs": [
        {
          "output_type": "display_data",
          "data": {
            "text/plain": [
              "<Figure size 432x288 with 1 Axes>"
            ],
            "image/png": "[encoded data removed]"
          },
          "metadata": {
            "needs_background": "light"
          }
        }
      ]
    },
    {
      "cell_type": "code",
      "source": [
        "# Visualize different silhouette scores\n",
        "# Save silhouette scores for various cluster numbers in list\n",
        "silhouette_scores = []\n",
        "for i in range(2, 11):\n",
        "  kmeans = KMeans(n_clusters = i)\n",
        "  kmeans.fit(X_train_processed)\n",
        "  silhouette_scores.append(silhouette_score(X_train_processed, kmeans.labels_))\n",
        "# Visualize scores\n",
        "plt.plot(range(2, 11), silhouette_scores, marker = '.')\n",
        "plt.xlabel('Number of Clusters')\n",
        "plt.ylabel('Silhouette Score');"
      ],
      "metadata": {
        "colab": {
          "base_uri": "https://localhost:8080/",
          "height": 279
        },
        "id": "ej9Tfxz8V0Wv",
        "outputId": "3479408a-0617-4169-89e7-8acbe5e6ef1f"
      },
      "execution_count": 132,
      "outputs": [
        {
          "output_type": "display_data",
          "data": {
            "text/plain": [
              "<Figure size 432x288 with 1 Axes>"
            ],
            "image/png": "[encoded data removed]"
          },
          "metadata": {
            "needs_background": "light"
          }
        }
      ]
    },
    {
      "cell_type": "code",
      "source": [
        "# Análisis visto en https://login.codingdojo.com/m/504/12411/86825\n",
        "# Fit kmeans model with 2 clusters and display the silhouette score\n",
        "kmeans = KMeans(n_clusters = 2, max_iter=3)\n",
        "kmeans.fit(X_train_processed)\n",
        "silhouette_score(X_train_processed, kmeans.labels_) #0.41690014198681535"
      ],
      "metadata": {
        "colab": {
          "base_uri": "https://localhost:8080/"
        },
        "id": "acOhrgOsOh6U",
        "outputId": "ca119336-4830-4fa5-8b6f-ed9584d74c8f"
      },
      "execution_count": 133,
      "outputs": [
        {
          "output_type": "execute_result",
          "data": {
            "text/plain": [
              "0.41690014198681535"
            ]
          },
          "metadata": {},
          "execution_count": 133
        }
      ]
    },
    {
      "cell_type": "code",
      "source": [
        "kmeans = KMeans(n_clusters=2, random_state=42, max_iter=3)\n",
        "kmeans.fit(X_train_processed)\n",
        "# Add the clusters as a column in the dataframe\n",
        "X_train['cluster'] = kmeans.labels_\n",
        "X_train.head()"
      ],
      "metadata": {
        "colab": {
          "base_uri": "https://localhost:8080/",
          "height": 206
        },
        "id": "GuTeUlahPhM7",
        "outputId": "4f01461d-37ae-4465-c815-06a02ca3cd17"
      },
      "execution_count": 140,
      "outputs": [
        {
          "output_type": "execute_result",
          "data": {
            "text/plain": [
              "     cylinders  displacement  horsepower  weight  acceleration  model year  \\\n",
              "196          4          90.0          70    1937          14.2          76   \n",
              "203          4          85.0          70    1990          17.0          76   \n",
              "372          4         140.0          92    2865          16.4          82   \n",
              "218          4         122.0          96    2300          15.5          77   \n",
              "337          4         135.0          84    2490          15.7          81   \n",
              "\n",
              "     origin       brand  cluster  \n",
              "196       2  volkswagen        0  \n",
              "203       3      datsun        0  \n",
              "372       1        ford        0  \n",
              "218       1    plymouth        0  \n",
              "337       1    plymouth        0  "
            ],
            "text/html": [
              "\n",
              "  <div id=\"df-e37e52f1-b181-4466-9244-3030a779d99b\">\n",
              "    <div class=\"colab-df-container\">\n",
              "      <div>\n",
              "<style scoped>\n",
              "    .dataframe tbody tr th:only-of-type {\n",
              "        vertical-align: middle;\n",
              "    }\n",
              "\n",
              "    .dataframe tbody tr th {\n",
              "        vertical-align: top;\n",
              "    }\n",
              "\n",
              "    .dataframe thead th {\n",
              "        text-align: right;\n",
              "    }\n",
              "</style>\n",
              "<table border=\"1\" class=\"dataframe\">\n",
              "  <thead>\n",
              "    <tr style=\"text-align: right;\">\n",
              "      <th></th>\n",
              "      <th>cylinders</th>\n",
              "      <th>displacement</th>\n",
              "      <th>horsepower</th>\n",
              "      <th>weight</th>\n",
              "      <th>acceleration</th>\n",
              "      <th>model year</th>\n",
              "      <th>origin</th>\n",
              "      <th>brand</th>\n",
              "      <th>cluster</th>\n",
              "    </tr>\n",
              "  </thead>\n",
              "  <tbody>\n",
              "    <tr>\n",
              "      <th>196</th>\n",
              "      <td>4</td>\n",
              "      <td>90.0</td>\n",
              "      <td>70</td>\n",
              "      <td>1937</td>\n",
              "      <td>14.2</td>\n",
              "      <td>76</td>\n",
              "      <td>2</td>\n",
              "      <td>volkswagen</td>\n",
              "      <td>0</td>\n",
              "    </tr>\n",
              "    <tr>\n",
              "      <th>203</th>\n",
              "      <td>4</td>\n",
              "      <td>85.0</td>\n",
              "      <td>70</td>\n",
              "      <td>1990</td>\n",
              "      <td>17.0</td>\n",
              "      <td>76</td>\n",
              "      <td>3</td>\n",
              "      <td>datsun</td>\n",
              "      <td>0</td>\n",
              "    </tr>\n",
              "    <tr>\n",
              "      <th>372</th>\n",
              "      <td>4</td>\n",
              "      <td>140.0</td>\n",
              "      <td>92</td>\n",
              "      <td>2865</td>\n",
              "      <td>16.4</td>\n",
              "      <td>82</td>\n",
              "      <td>1</td>\n",
              "      <td>ford</td>\n",
              "      <td>0</td>\n",
              "    </tr>\n",
              "    <tr>\n",
              "      <th>218</th>\n",
              "      <td>4</td>\n",
              "      <td>122.0</td>\n",
              "      <td>96</td>\n",
              "      <td>2300</td>\n",
              "      <td>15.5</td>\n",
              "      <td>77</td>\n",
              "      <td>1</td>\n",
              "      <td>plymouth</td>\n",
              "      <td>0</td>\n",
              "    </tr>\n",
              "    <tr>\n",
              "      <th>337</th>\n",
              "      <td>4</td>\n",
              "      <td>135.0</td>\n",
              "      <td>84</td>\n",
              "      <td>2490</td>\n",
              "      <td>15.7</td>\n",
              "      <td>81</td>\n",
              "      <td>1</td>\n",
              "      <td>plymouth</td>\n",
              "      <td>0</td>\n",
              "    </tr>\n",
              "  </tbody>\n",
              "</table>\n",
              "</div>\n",
              "      <button class=\"colab-df-convert\" onclick=\"convertToInteractive('df-e37e52f1-b181-4466-9244-3030a779d99b')\"\n",
              "              title=\"Convert this dataframe to an interactive table.\"\n",
              "              style=\"display:none;\">\n",
              "        \n",
              "  <svg xmlns=\"http://www.w3.org/2000/svg\" height=\"24px\"viewBox=\"0 0 24 24\"\n",
              "       width=\"24px\">\n",
              "    <path d=\"M0 0h24v24H0V0z\" fill=\"none\"/>\n",
              "    <path d=\"M18.56 5.44l.94 2.06.94-2.06 2.06-.94-2.06-.94-.94-2.06-.94 2.06-2.06.94zm-11 1L8.5 8.5l.94-2.06 2.06-.94-2.06-.94L8.5 2.5l-.94 2.06-2.06.94zm10 10l.94 2.06.94-2.06 2.06-.94-2.06-.94-.94-2.06-.94 2.06-2.06.94z\"/><path d=\"M17.41 7.96l-1.37-1.37c-.4-.4-.92-.59-1.43-.59-.52 0-1.04.2-1.43.59L10.3 9.45l-7.72 7.72c-.78.78-.78 2.05 0 2.83L4 21.41c.39.39.9.59 1.41.59.51 0 1.02-.2 1.41-.59l7.78-7.78 2.81-2.81c.8-.78.8-2.07 0-2.86zM5.41 20L4 18.59l7.72-7.72 1.47 1.35L5.41 20z\"/>\n",
              "  </svg>\n",
              "      </button>\n",
              "      \n",
              "  <style>\n",
              "    .colab-df-container {\n",
              "      display:flex;\n",
              "      flex-wrap:wrap;\n",
              "      gap: 12px;\n",
              "    }\n",
              "\n",
              "    .colab-df-convert {\n",
              "      background-color: #E8F0FE;\n",
              "      border: none;\n",
              "      border-radius: 50%;\n",
              "      cursor: pointer;\n",
              "      display: none;\n",
              "      fill: #1967D2;\n",
              "      height: 32px;\n",
              "      padding: 0 0 0 0;\n",
              "      width: 32px;\n",
              "    }\n",
              "\n",
              "    .colab-df-convert:hover {\n",
              "      background-color: #E2EBFA;\n",
              "      box-shadow: 0px 1px 2px rgba(60, 64, 67, 0.3), 0px 1px 3px 1px rgba(60, 64, 67, 0.15);\n",
              "      fill: #174EA6;\n",
              "    }\n",
              "\n",
              "    [theme=dark] .colab-df-convert {\n",
              "      background-color: #3B4455;\n",
              "      fill: #D2E3FC;\n",
              "    }\n",
              "\n",
              "    [theme=dark] .colab-df-convert:hover {\n",
              "      background-color: #434B5C;\n",
              "      box-shadow: 0px 1px 3px 1px rgba(0, 0, 0, 0.15);\n",
              "      filter: drop-shadow(0px 1px 2px rgba(0, 0, 0, 0.3));\n",
              "      fill: #FFFFFF;\n",
              "    }\n",
              "  </style>\n",
              "\n",
              "      <script>\n",
              "        const buttonEl =\n",
              "          document.querySelector('#df-e37e52f1-b181-4466-9244-3030a779d99b button.colab-df-convert');\n",
              "        buttonEl.style.display =\n",
              "          google.colab.kernel.accessAllowed ? 'block' : 'none';\n",
              "\n",
              "        async function convertToInteractive(key) {\n",
              "          const element = document.querySelector('#df-e37e52f1-b181-4466-9244-3030a779d99b');\n",
              "          const dataTable =\n",
              "            await google.colab.kernel.invokeFunction('convertToInteractive',\n",
              "                                                     [key], {});\n",
              "          if (!dataTable) return;\n",
              "\n",
              "          const docLinkHtml = 'Like what you see? Visit the ' +\n",
              "            '<a target=\"_blank\" href=https://colab.research.google.com/notebooks/data_table.ipynb>data table notebook</a>'\n",
              "            + ' to learn more about interactive tables.';\n",
              "          element.innerHTML = '';\n",
              "          dataTable['output_type'] = 'display_data';\n",
              "          await google.colab.output.renderOutput(dataTable, element);\n",
              "          const docLink = document.createElement('div');\n",
              "          docLink.innerHTML = docLinkHtml;\n",
              "          element.appendChild(docLink);\n",
              "        }\n",
              "      </script>\n",
              "    </div>\n",
              "  </div>\n",
              "  "
            ]
          },
          "metadata": {},
          "execution_count": 140
        }
      ]
    },
    {
      "cell_type": "code",
      "source": [
        "cluster_groups = X_train.groupby('cluster', as_index=False).mean()\n",
        "cluster_groups"
      ],
      "metadata": {
        "colab": {
          "base_uri": "https://localhost:8080/",
          "height": 112
        },
        "id": "vMmUYMknP8Im",
        "outputId": "9a5e8b8f-088a-4ae7-a42e-1df8d14bc9f4"
      },
      "execution_count": 136,
      "outputs": [
        {
          "output_type": "execute_result",
          "data": {
            "text/plain": [
              "   cluster  cylinders  displacement  horsepower       weight  acceleration  \\\n",
              "0        0   4.532609    139.320652   85.092391  2585.097826     16.522826   \n",
              "1        1   7.969231    349.861538  162.200000  4175.769231     12.776923   \n",
              "\n",
              "   model year    origin  \n",
              "0   76.755435  1.815217  \n",
              "1   73.753846  1.000000  "
            ],
            "text/html": [
              "\n",
              "  <div id=\"df-10b99668-6fcb-49d6-9d78-d889e627e62d\">\n",
              "    <div class=\"colab-df-container\">\n",
              "      <div>\n",
              "<style scoped>\n",
              "    .dataframe tbody tr th:only-of-type {\n",
              "        vertical-align: middle;\n",
              "    }\n",
              "\n",
              "    .dataframe tbody tr th {\n",
              "        vertical-align: top;\n",
              "    }\n",
              "\n",
              "    .dataframe thead th {\n",
              "        text-align: right;\n",
              "    }\n",
              "</style>\n",
              "<table border=\"1\" class=\"dataframe\">\n",
              "  <thead>\n",
              "    <tr style=\"text-align: right;\">\n",
              "      <th></th>\n",
              "      <th>cluster</th>\n",
              "      <th>cylinders</th>\n",
              "      <th>displacement</th>\n",
              "      <th>horsepower</th>\n",
              "      <th>weight</th>\n",
              "      <th>acceleration</th>\n",
              "      <th>model year</th>\n",
              "      <th>origin</th>\n",
              "    </tr>\n",
              "  </thead>\n",
              "  <tbody>\n",
              "    <tr>\n",
              "      <th>0</th>\n",
              "      <td>0</td>\n",
              "      <td>4.532609</td>\n",
              "      <td>139.320652</td>\n",
              "      <td>85.092391</td>\n",
              "      <td>2585.097826</td>\n",
              "      <td>16.522826</td>\n",
              "      <td>76.755435</td>\n",
              "      <td>1.815217</td>\n",
              "    </tr>\n",
              "    <tr>\n",
              "      <th>1</th>\n",
              "      <td>1</td>\n",
              "      <td>7.969231</td>\n",
              "      <td>349.861538</td>\n",
              "      <td>162.200000</td>\n",
              "      <td>4175.769231</td>\n",
              "      <td>12.776923</td>\n",
              "      <td>73.753846</td>\n",
              "      <td>1.000000</td>\n",
              "    </tr>\n",
              "  </tbody>\n",
              "</table>\n",
              "</div>\n",
              "      <button class=\"colab-df-convert\" onclick=\"convertToInteractive('df-10b99668-6fcb-49d6-9d78-d889e627e62d')\"\n",
              "              title=\"Convert this dataframe to an interactive table.\"\n",
              "              style=\"display:none;\">\n",
              "        \n",
              "  <svg xmlns=\"http://www.w3.org/2000/svg\" height=\"24px\"viewBox=\"0 0 24 24\"\n",
              "       width=\"24px\">\n",
              "    <path d=\"M0 0h24v24H0V0z\" fill=\"none\"/>\n",
              "    <path d=\"M18.56 5.44l.94 2.06.94-2.06 2.06-.94-2.06-.94-.94-2.06-.94 2.06-2.06.94zm-11 1L8.5 8.5l.94-2.06 2.06-.94-2.06-.94L8.5 2.5l-.94 2.06-2.06.94zm10 10l.94 2.06.94-2.06 2.06-.94-2.06-.94-.94-2.06-.94 2.06-2.06.94z\"/><path d=\"M17.41 7.96l-1.37-1.37c-.4-.4-.92-.59-1.43-.59-.52 0-1.04.2-1.43.59L10.3 9.45l-7.72 7.72c-.78.78-.78 2.05 0 2.83L4 21.41c.39.39.9.59 1.41.59.51 0 1.02-.2 1.41-.59l7.78-7.78 2.81-2.81c.8-.78.8-2.07 0-2.86zM5.41 20L4 18.59l7.72-7.72 1.47 1.35L5.41 20z\"/>\n",
              "  </svg>\n",
              "      </button>\n",
              "      \n",
              "  <style>\n",
              "    .colab-df-container {\n",
              "      display:flex;\n",
              "      flex-wrap:wrap;\n",
              "      gap: 12px;\n",
              "    }\n",
              "\n",
              "    .colab-df-convert {\n",
              "      background-color: #E8F0FE;\n",
              "      border: none;\n",
              "      border-radius: 50%;\n",
              "      cursor: pointer;\n",
              "      display: none;\n",
              "      fill: #1967D2;\n",
              "      height: 32px;\n",
              "      padding: 0 0 0 0;\n",
              "      width: 32px;\n",
              "    }\n",
              "\n",
              "    .colab-df-convert:hover {\n",
              "      background-color: #E2EBFA;\n",
              "      box-shadow: 0px 1px 2px rgba(60, 64, 67, 0.3), 0px 1px 3px 1px rgba(60, 64, 67, 0.15);\n",
              "      fill: #174EA6;\n",
              "    }\n",
              "\n",
              "    [theme=dark] .colab-df-convert {\n",
              "      background-color: #3B4455;\n",
              "      fill: #D2E3FC;\n",
              "    }\n",
              "\n",
              "    [theme=dark] .colab-df-convert:hover {\n",
              "      background-color: #434B5C;\n",
              "      box-shadow: 0px 1px 3px 1px rgba(0, 0, 0, 0.15);\n",
              "      filter: drop-shadow(0px 1px 2px rgba(0, 0, 0, 0.3));\n",
              "      fill: #FFFFFF;\n",
              "    }\n",
              "  </style>\n",
              "\n",
              "      <script>\n",
              "        const buttonEl =\n",
              "          document.querySelector('#df-10b99668-6fcb-49d6-9d78-d889e627e62d button.colab-df-convert');\n",
              "        buttonEl.style.display =\n",
              "          google.colab.kernel.accessAllowed ? 'block' : 'none';\n",
              "\n",
              "        async function convertToInteractive(key) {\n",
              "          const element = document.querySelector('#df-10b99668-6fcb-49d6-9d78-d889e627e62d');\n",
              "          const dataTable =\n",
              "            await google.colab.kernel.invokeFunction('convertToInteractive',\n",
              "                                                     [key], {});\n",
              "          if (!dataTable) return;\n",
              "\n",
              "          const docLinkHtml = 'Like what you see? Visit the ' +\n",
              "            '<a target=\"_blank\" href=https://colab.research.google.com/notebooks/data_table.ipynb>data table notebook</a>'\n",
              "            + ' to learn more about interactive tables.';\n",
              "          element.innerHTML = '';\n",
              "          dataTable['output_type'] = 'display_data';\n",
              "          await google.colab.output.renderOutput(dataTable, element);\n",
              "          const docLink = document.createElement('div');\n",
              "          docLink.innerHTML = docLinkHtml;\n",
              "          element.appendChild(docLink);\n",
              "        }\n",
              "      </script>\n",
              "    </div>\n",
              "  </div>\n",
              "  "
            ]
          },
          "metadata": {},
          "execution_count": 136
        }
      ]
    },
    {
      "cell_type": "code",
      "source": [
        "# Visualize means \n",
        "fig, axes = plt.subplots(3,4, figsize = (20, 10))\n",
        "# fig is an array of dimensions 3,4.  axes.ravel() will flatten it to 12,1\n",
        "axes = axes.ravel()\n",
        "# Loop over columns and plot each in a separate figure, skip 'cluster' column\n",
        "for i, col in enumerate(cluster_groups.columns[0:]):\n",
        "  axes[i].bar(cluster_groups['cluster'], cluster_groups[col])\n",
        "  axes[i].set_title(f'Mean {col}')"
      ],
      "metadata": {
        "colab": {
          "base_uri": "https://localhost:8080/",
          "height": 607
        },
        "id": "e2LFSdvNS04u",
        "outputId": "f96cbe00-f6b4-4daf-857c-a322b1378a7f"
      },
      "execution_count": 22,
      "outputs": [
        {
          "output_type": "display_data",
          "data": {
            "text/plain": [
              "<Figure size 1440x720 with 12 Axes>"
            ],
            "image/png": "[encoded data removed]"
          },
          "metadata": {
            "needs_background": "light"
          }
        }
      ]
    },
    {
      "cell_type": "code",
      "source": [
        "# Vemos la cantidad de columnas que toma con PCA\n",
        "pca = PCA(n_components=0.95)\n",
        "X_train_pca = pca.fit_transform(X_train_processed)\n",
        "\n",
        "print(\"El número de columnas que considera CON PCA es\", pca.n_components_, \"de\", pca.n_features_)"
      ],
      "metadata": {
        "colab": {
          "base_uri": "https://localhost:8080/"
        },
        "id": "s5YaSseyXQP_",
        "outputId": "7f93a872-3a97-4d65-90eb-d4888e4f6f24"
      },
      "execution_count": 67,
      "outputs": [
        {
          "output_type": "stream",
          "name": "stdout",
          "text": [
            "El número de columnas que considera CON PCA es 13 de 36\n"
          ]
        }
      ]
    },
    {
      "cell_type": "code",
      "source": [
        "# Vemos la cantidad de columnas que toma sin PCA\n",
        "pca = PCA()\n",
        "X_train_no_pca = pca.fit_transform(X_train_processed)\n",
        "\n",
        "print(\"El número de columnas que considera SIN PCA es\", pca.n_components_, \"de\", pca.n_features_)"
      ],
      "metadata": {
        "colab": {
          "base_uri": "https://localhost:8080/"
        },
        "id": "B6dsMsMlX4e5",
        "outputId": "30039c70-82bc-4a1f-93a9-cc247fa18f97"
      },
      "execution_count": 26,
      "outputs": [
        {
          "output_type": "stream",
          "name": "stdout",
          "text": [
            "El número de columnas que considera SIN PCA es 36 de 36\n"
          ]
        }
      ]
    },
    {
      "cell_type": "code",
      "source": [
        "# Visto en clase\n",
        "# Definir tu modelo secuencial de base\n",
        "# Modelo sin \n",
        "model = Sequential()\n",
        "\n",
        "input_shape = X_train_pca.shape[1]\n",
        "print('Input shape:', input_shape)\n",
        "\n",
        "# First hidden layer\n",
        "model.add(Dense(800, # How many neurons you have in your first hidden layer\n",
        "                input_dim = input_shape, # What is the shape of your input features (number of columns)\n",
        "                activation = 'relu')) # What activation function are you using?\n",
        "# Second hidden layer\n",
        "model.add(Dense(500, # How many neurons you have in your second hidden layer\n",
        "                activation = 'relu')) # What activation function are you using?\n",
        "# Output layer --> Esta capa de salida tiene 1 sola neurona y siempre se trabaja con 1 y función sigmoide al tener un problema de clasificación\n",
        "model.add(Dense(1, activation = 'linear')) \n",
        "\n",
        "model.compile(loss = 'mse', optimizer = 'adam', metrics=['mae', 'mse'])\n",
        "model.summary()"
      ],
      "metadata": {
        "colab": {
          "base_uri": "https://localhost:8080/"
        },
        "id": "o0i6Id6uX8Gk",
        "outputId": "c042bc1d-3aa2-408a-856d-6ffd47524162"
      },
      "execution_count": 68,
      "outputs": [
        {
          "output_type": "stream",
          "name": "stdout",
          "text": [
            "Input shape: 13\n",
            "Model: \"sequential_15\"\n",
            "_________________________________________________________________\n",
            " Layer (type)                Output Shape              Param #   \n",
            "=================================================================\n",
            " dense_45 (Dense)            (None, 800)               11200     \n",
            "                                                                 \n",
            " dense_46 (Dense)            (None, 500)               400500    \n",
            "                                                                 \n",
            " dense_47 (Dense)            (None, 1)                 501       \n",
            "                                                                 \n",
            "=================================================================\n",
            "Total params: 412,201\n",
            "Trainable params: 412,201\n",
            "Non-trainable params: 0\n",
            "_________________________________________________________________\n"
          ]
        }
      ]
    },
    {
      "cell_type": "code",
      "source": [
        "predicted_batch = X_train_pca[:10]\n",
        "predicted_result = model.predict(predicted_batch)\n",
        "predicted_result"
      ],
      "metadata": {
        "colab": {
          "base_uri": "https://localhost:8080/"
        },
        "id": "KnAzaq8TeUyo",
        "outputId": "df969201-ea22-43d3-f808-255a59c542b3"
      },
      "execution_count": 70,
      "outputs": [
        {
          "output_type": "stream",
          "name": "stderr",
          "text": [
            "WARNING:tensorflow:6 out of the last 7 calls to <function Model.make_predict_function.<locals>.predict_function at 0x7fcb3970dd40> triggered tf.function retracing. Tracing is expensive and the excessive number of tracings could be due to (1) creating @tf.function repeatedly in a loop, (2) passing tensors with different shapes, (3) passing Python objects instead of tensors. For (1), please define your @tf.function outside of the loop. For (2), @tf.function has experimental_relax_shapes=True option that relaxes argument shapes that can avoid unnecessary retracing. For (3), please refer to https://www.tensorflow.org/guide/function#controlling_retracing and https://www.tensorflow.org/api_docs/python/tf/function for  more details.\n"
          ]
        },
        {
          "output_type": "execute_result",
          "data": {
            "text/plain": [
              "array([[ 0.01595654],\n",
              "       [ 0.0814031 ],\n",
              "       [ 0.01977063],\n",
              "       [ 0.0333224 ],\n",
              "       [ 0.03312714],\n",
              "       [-0.04638752],\n",
              "       [-0.08361628],\n",
              "       [-0.03153902],\n",
              "       [-0.09202699],\n",
              "       [-0.04923834]], dtype=float32)"
            ]
          },
          "metadata": {},
          "execution_count": 70
        }
      ]
    },
    {
      "cell_type": "code",
      "source": [
        "# https://www.tensorflow.org/tutorials/keras/regression\n",
        "history = model.fit(X_train_pca, y_train, epochs=80, validation_split = 0.2)"
      ],
      "metadata": {
        "colab": {
          "base_uri": "https://localhost:8080/"
        },
        "id": "2291CLu_e5lq",
        "outputId": "2de93a23-82d9-48ba-cdeb-c1e8037cfa68"
      },
      "execution_count": 71,
      "outputs": [
        {
          "output_type": "stream",
          "name": "stdout",
          "text": [
            "Epoch 1/80\n",
            "7/7 [==============================] - 0s 21ms/step - loss: 543.6108 - mae: 21.9716 - mse: 543.6108 - val_loss: 434.2406 - val_mae: 19.1629 - val_mse: 434.2406\n",
            "Epoch 2/80\n",
            "7/7 [==============================] - 0s 6ms/step - loss: 345.2693 - mae: 16.7092 - mse: 345.2693 - val_loss: 217.4835 - val_mae: 13.0819 - val_mse: 217.4835\n",
            "Epoch 3/80\n",
            "7/7 [==============================] - 0s 6ms/step - loss: 145.7768 - mae: 10.5794 - mse: 145.7768 - val_loss: 60.9047 - val_mae: 6.7320 - val_mse: 60.9047\n",
            "Epoch 4/80\n",
            "7/7 [==============================] - 0s 8ms/step - loss: 40.2855 - mae: 5.3371 - mse: 40.2855 - val_loss: 39.3482 - val_mae: 5.1485 - val_mse: 39.3482\n",
            "Epoch 5/80\n",
            "7/7 [==============================] - 0s 6ms/step - loss: 41.3313 - mae: 5.1313 - mse: 41.3313 - val_loss: 29.1307 - val_mae: 4.4535 - val_mse: 29.1307\n",
            "Epoch 6/80\n",
            "7/7 [==============================] - 0s 6ms/step - loss: 21.1257 - mae: 3.6387 - mse: 21.1257 - val_loss: 19.7191 - val_mae: 3.5427 - val_mse: 19.7191\n",
            "Epoch 7/80\n",
            "7/7 [==============================] - 0s 6ms/step - loss: 16.5961 - mae: 3.3261 - mse: 16.5961 - val_loss: 20.0617 - val_mae: 3.5989 - val_mse: 20.0617\n",
            "Epoch 8/80\n",
            "7/7 [==============================] - 0s 6ms/step - loss: 14.9960 - mae: 3.0609 - mse: 14.9960 - val_loss: 14.9608 - val_mae: 3.1217 - val_mse: 14.9608\n",
            "Epoch 9/80\n",
            "7/7 [==============================] - 0s 6ms/step - loss: 11.5676 - mae: 2.6460 - mse: 11.5676 - val_loss: 14.0363 - val_mae: 3.1345 - val_mse: 14.0363\n",
            "Epoch 10/80\n",
            "7/7 [==============================] - 0s 7ms/step - loss: 11.1224 - mae: 2.6142 - mse: 11.1224 - val_loss: 12.9933 - val_mae: 2.9504 - val_mse: 12.9933\n",
            "Epoch 11/80\n",
            "7/7 [==============================] - 0s 6ms/step - loss: 10.4067 - mae: 2.4661 - mse: 10.4067 - val_loss: 12.1664 - val_mae: 2.8355 - val_mse: 12.1664\n",
            "Epoch 12/80\n",
            "7/7 [==============================] - 0s 6ms/step - loss: 10.0332 - mae: 2.3737 - mse: 10.0332 - val_loss: 11.8881 - val_mae: 2.8309 - val_mse: 11.8881\n",
            "Epoch 13/80\n",
            "7/7 [==============================] - 0s 6ms/step - loss: 9.5827 - mae: 2.3154 - mse: 9.5827 - val_loss: 12.1203 - val_mae: 2.8753 - val_mse: 12.1203\n",
            "Epoch 14/80\n",
            "7/7 [==============================] - 0s 6ms/step - loss: 9.2408 - mae: 2.2830 - mse: 9.2408 - val_loss: 12.1020 - val_mae: 2.8519 - val_mse: 12.1020\n",
            "Epoch 15/80\n",
            "7/7 [==============================] - 0s 6ms/step - loss: 9.0885 - mae: 2.2547 - mse: 9.0885 - val_loss: 12.5363 - val_mae: 2.8704 - val_mse: 12.5363\n",
            "Epoch 16/80\n",
            "7/7 [==============================] - 0s 6ms/step - loss: 9.0399 - mae: 2.2616 - mse: 9.0399 - val_loss: 12.0708 - val_mae: 2.7919 - val_mse: 12.0708\n",
            "Epoch 17/80\n",
            "7/7 [==============================] - 0s 6ms/step - loss: 8.5204 - mae: 2.1999 - mse: 8.5204 - val_loss: 11.8235 - val_mae: 2.7960 - val_mse: 11.8235\n",
            "Epoch 18/80\n",
            "7/7 [==============================] - 0s 6ms/step - loss: 8.2951 - mae: 2.1694 - mse: 8.2951 - val_loss: 11.2350 - val_mae: 2.7569 - val_mse: 11.2350\n",
            "Epoch 19/80\n",
            "7/7 [==============================] - 0s 6ms/step - loss: 7.9548 - mae: 2.1009 - mse: 7.9548 - val_loss: 10.9661 - val_mae: 2.7186 - val_mse: 10.9661\n",
            "Epoch 20/80\n",
            "7/7 [==============================] - 0s 6ms/step - loss: 7.9601 - mae: 2.1021 - mse: 7.9601 - val_loss: 10.8558 - val_mae: 2.6717 - val_mse: 10.8558\n",
            "Epoch 21/80\n",
            "7/7 [==============================] - 0s 6ms/step - loss: 7.6831 - mae: 2.0681 - mse: 7.6831 - val_loss: 11.4594 - val_mae: 2.7526 - val_mse: 11.4594\n",
            "Epoch 22/80\n",
            "7/7 [==============================] - 0s 6ms/step - loss: 7.4415 - mae: 2.0308 - mse: 7.4415 - val_loss: 11.4679 - val_mae: 2.7632 - val_mse: 11.4679\n",
            "Epoch 23/80\n",
            "7/7 [==============================] - 0s 7ms/step - loss: 7.2956 - mae: 2.0007 - mse: 7.2956 - val_loss: 11.4828 - val_mae: 2.7614 - val_mse: 11.4828\n",
            "Epoch 24/80\n",
            "7/7 [==============================] - 0s 6ms/step - loss: 7.1545 - mae: 1.9918 - mse: 7.1545 - val_loss: 11.1426 - val_mae: 2.6638 - val_mse: 11.1426\n",
            "Epoch 25/80\n",
            "7/7 [==============================] - 0s 9ms/step - loss: 7.1213 - mae: 1.9818 - mse: 7.1213 - val_loss: 10.8944 - val_mae: 2.6581 - val_mse: 10.8944\n",
            "Epoch 26/80\n",
            "7/7 [==============================] - 0s 6ms/step - loss: 6.9254 - mae: 1.9675 - mse: 6.9254 - val_loss: 11.7487 - val_mae: 2.7996 - val_mse: 11.7487\n",
            "Epoch 27/80\n",
            "7/7 [==============================] - 0s 7ms/step - loss: 6.8173 - mae: 1.9538 - mse: 6.8173 - val_loss: 11.2380 - val_mae: 2.7535 - val_mse: 11.2380\n",
            "Epoch 28/80\n",
            "7/7 [==============================] - 0s 6ms/step - loss: 6.7983 - mae: 1.9373 - mse: 6.7983 - val_loss: 10.9939 - val_mae: 2.7033 - val_mse: 10.9939\n",
            "Epoch 29/80\n",
            "7/7 [==============================] - 0s 6ms/step - loss: 6.5317 - mae: 1.8614 - mse: 6.5317 - val_loss: 10.8917 - val_mae: 2.6423 - val_mse: 10.8917\n",
            "Epoch 30/80\n",
            "7/7 [==============================] - 0s 6ms/step - loss: 6.5627 - mae: 1.8944 - mse: 6.5627 - val_loss: 10.7258 - val_mae: 2.6276 - val_mse: 10.7258\n",
            "Epoch 31/80\n",
            "7/7 [==============================] - 0s 7ms/step - loss: 6.2872 - mae: 1.8282 - mse: 6.2872 - val_loss: 10.2498 - val_mae: 2.5646 - val_mse: 10.2498\n",
            "Epoch 32/80\n",
            "7/7 [==============================] - 0s 6ms/step - loss: 6.2916 - mae: 1.8502 - mse: 6.2916 - val_loss: 10.3443 - val_mae: 2.5871 - val_mse: 10.3443\n",
            "Epoch 33/80\n",
            "7/7 [==============================] - 0s 6ms/step - loss: 6.1367 - mae: 1.8420 - mse: 6.1367 - val_loss: 10.3667 - val_mae: 2.5395 - val_mse: 10.3667\n",
            "Epoch 34/80\n",
            "7/7 [==============================] - 0s 7ms/step - loss: 6.1174 - mae: 1.8403 - mse: 6.1174 - val_loss: 10.3543 - val_mae: 2.5475 - val_mse: 10.3543\n",
            "Epoch 35/80\n",
            "7/7 [==============================] - 0s 6ms/step - loss: 5.7710 - mae: 1.7736 - mse: 5.7710 - val_loss: 10.3158 - val_mae: 2.5579 - val_mse: 10.3158\n",
            "Epoch 36/80\n",
            "7/7 [==============================] - 0s 6ms/step - loss: 5.9072 - mae: 1.7846 - mse: 5.9072 - val_loss: 10.7959 - val_mae: 2.6263 - val_mse: 10.7959\n",
            "Epoch 37/80\n",
            "7/7 [==============================] - 0s 6ms/step - loss: 5.7036 - mae: 1.7525 - mse: 5.7036 - val_loss: 10.7182 - val_mae: 2.5968 - val_mse: 10.7182\n",
            "Epoch 38/80\n",
            "7/7 [==============================] - 0s 6ms/step - loss: 5.6485 - mae: 1.7369 - mse: 5.6485 - val_loss: 11.0811 - val_mae: 2.6404 - val_mse: 11.0811\n",
            "Epoch 39/80\n",
            "7/7 [==============================] - 0s 6ms/step - loss: 5.5427 - mae: 1.7354 - mse: 5.5427 - val_loss: 10.2764 - val_mae: 2.5382 - val_mse: 10.2764\n",
            "Epoch 40/80\n",
            "7/7 [==============================] - 0s 6ms/step - loss: 5.5242 - mae: 1.7226 - mse: 5.5242 - val_loss: 9.8560 - val_mae: 2.4443 - val_mse: 9.8560\n",
            "Epoch 41/80\n",
            "7/7 [==============================] - 0s 6ms/step - loss: 5.2952 - mae: 1.6931 - mse: 5.2952 - val_loss: 9.8868 - val_mae: 2.4675 - val_mse: 9.8868\n",
            "Epoch 42/80\n",
            "7/7 [==============================] - 0s 6ms/step - loss: 5.3034 - mae: 1.7036 - mse: 5.3034 - val_loss: 10.1224 - val_mae: 2.4755 - val_mse: 10.1224\n",
            "Epoch 43/80\n",
            "7/7 [==============================] - 0s 9ms/step - loss: 5.2648 - mae: 1.7090 - mse: 5.2648 - val_loss: 10.3328 - val_mae: 2.5151 - val_mse: 10.3328\n",
            "Epoch 44/80\n",
            "7/7 [==============================] - 0s 6ms/step - loss: 5.2134 - mae: 1.6866 - mse: 5.2134 - val_loss: 10.1179 - val_mae: 2.4943 - val_mse: 10.1179\n",
            "Epoch 45/80\n",
            "7/7 [==============================] - 0s 6ms/step - loss: 5.0879 - mae: 1.6682 - mse: 5.0879 - val_loss: 9.8038 - val_mae: 2.4498 - val_mse: 9.8038\n",
            "Epoch 46/80\n",
            "7/7 [==============================] - 0s 6ms/step - loss: 4.9704 - mae: 1.6524 - mse: 4.9704 - val_loss: 9.4190 - val_mae: 2.3979 - val_mse: 9.4190\n",
            "Epoch 47/80\n",
            "7/7 [==============================] - 0s 6ms/step - loss: 4.9512 - mae: 1.6502 - mse: 4.9512 - val_loss: 9.4239 - val_mae: 2.3874 - val_mse: 9.4239\n",
            "Epoch 48/80\n",
            "7/7 [==============================] - 0s 7ms/step - loss: 5.1028 - mae: 1.6403 - mse: 5.1028 - val_loss: 9.2299 - val_mae: 2.3616 - val_mse: 9.2299\n",
            "Epoch 49/80\n",
            "7/7 [==============================] - 0s 6ms/step - loss: 4.9709 - mae: 1.6410 - mse: 4.9709 - val_loss: 9.6329 - val_mae: 2.4053 - val_mse: 9.6329\n",
            "Epoch 50/80\n",
            "7/7 [==============================] - 0s 6ms/step - loss: 4.7657 - mae: 1.6016 - mse: 4.7657 - val_loss: 9.4802 - val_mae: 2.3879 - val_mse: 9.4802\n",
            "Epoch 51/80\n",
            "7/7 [==============================] - 0s 6ms/step - loss: 4.7527 - mae: 1.5953 - mse: 4.7527 - val_loss: 9.5175 - val_mae: 2.3952 - val_mse: 9.5175\n",
            "Epoch 52/80\n",
            "7/7 [==============================] - 0s 6ms/step - loss: 4.6479 - mae: 1.5723 - mse: 4.6479 - val_loss: 9.4530 - val_mae: 2.3857 - val_mse: 9.4530\n",
            "Epoch 53/80\n",
            "7/7 [==============================] - 0s 6ms/step - loss: 4.5862 - mae: 1.5586 - mse: 4.5862 - val_loss: 9.4762 - val_mae: 2.3711 - val_mse: 9.4762\n",
            "Epoch 54/80\n",
            "7/7 [==============================] - 0s 6ms/step - loss: 4.4867 - mae: 1.5327 - mse: 4.4867 - val_loss: 9.3089 - val_mae: 2.3768 - val_mse: 9.3089\n",
            "Epoch 55/80\n",
            "7/7 [==============================] - 0s 7ms/step - loss: 4.5850 - mae: 1.5486 - mse: 4.5850 - val_loss: 9.4322 - val_mae: 2.3712 - val_mse: 9.4322\n",
            "Epoch 56/80\n",
            "7/7 [==============================] - 0s 6ms/step - loss: 4.4570 - mae: 1.5250 - mse: 4.4570 - val_loss: 9.5347 - val_mae: 2.4123 - val_mse: 9.5347\n",
            "Epoch 57/80\n",
            "7/7 [==============================] - 0s 6ms/step - loss: 4.7088 - mae: 1.5947 - mse: 4.7088 - val_loss: 9.7572 - val_mae: 2.4714 - val_mse: 9.7572\n",
            "Epoch 58/80\n",
            "7/7 [==============================] - 0s 6ms/step - loss: 4.5749 - mae: 1.5696 - mse: 4.5749 - val_loss: 9.7421 - val_mae: 2.3895 - val_mse: 9.7421\n",
            "Epoch 59/80\n",
            "7/7 [==============================] - 0s 6ms/step - loss: 4.2954 - mae: 1.5083 - mse: 4.2954 - val_loss: 9.3689 - val_mae: 2.3592 - val_mse: 9.3689\n",
            "Epoch 60/80\n",
            "7/7 [==============================] - 0s 6ms/step - loss: 4.3615 - mae: 1.5178 - mse: 4.3615 - val_loss: 9.7995 - val_mae: 2.4350 - val_mse: 9.7995\n",
            "Epoch 61/80\n",
            "7/7 [==============================] - 0s 6ms/step - loss: 4.2389 - mae: 1.4935 - mse: 4.2389 - val_loss: 9.4807 - val_mae: 2.3956 - val_mse: 9.4807\n",
            "Epoch 62/80\n",
            "7/7 [==============================] - 0s 6ms/step - loss: 4.2317 - mae: 1.4894 - mse: 4.2317 - val_loss: 9.2358 - val_mae: 2.3353 - val_mse: 9.2358\n",
            "Epoch 63/80\n",
            "7/7 [==============================] - 0s 6ms/step - loss: 4.0895 - mae: 1.4857 - mse: 4.0895 - val_loss: 9.3540 - val_mae: 2.3549 - val_mse: 9.3540\n",
            "Epoch 64/80\n",
            "7/7 [==============================] - 0s 6ms/step - loss: 4.0596 - mae: 1.4747 - mse: 4.0596 - val_loss: 8.9704 - val_mae: 2.3102 - val_mse: 8.9704\n",
            "Epoch 65/80\n",
            "7/7 [==============================] - 0s 9ms/step - loss: 4.0554 - mae: 1.4923 - mse: 4.0554 - val_loss: 8.9783 - val_mae: 2.2854 - val_mse: 8.9783\n",
            "Epoch 66/80\n",
            "7/7 [==============================] - 0s 6ms/step - loss: 3.9897 - mae: 1.4629 - mse: 3.9897 - val_loss: 8.7538 - val_mae: 2.2763 - val_mse: 8.7538\n",
            "Epoch 67/80\n",
            "7/7 [==============================] - 0s 9ms/step - loss: 3.9743 - mae: 1.4524 - mse: 3.9743 - val_loss: 9.2877 - val_mae: 2.3516 - val_mse: 9.2877\n",
            "Epoch 68/80\n",
            "7/7 [==============================] - 0s 7ms/step - loss: 3.9697 - mae: 1.4637 - mse: 3.9697 - val_loss: 9.3433 - val_mae: 2.3709 - val_mse: 9.3433\n",
            "Epoch 69/80\n",
            "7/7 [==============================] - 0s 7ms/step - loss: 3.9118 - mae: 1.4427 - mse: 3.9118 - val_loss: 8.9303 - val_mae: 2.2985 - val_mse: 8.9303\n",
            "Epoch 70/80\n",
            "7/7 [==============================] - 0s 6ms/step - loss: 3.9114 - mae: 1.4665 - mse: 3.9114 - val_loss: 9.1383 - val_mae: 2.3094 - val_mse: 9.1383\n",
            "Epoch 71/80\n",
            "7/7 [==============================] - 0s 6ms/step - loss: 4.0702 - mae: 1.4814 - mse: 4.0702 - val_loss: 8.4154 - val_mae: 2.2015 - val_mse: 8.4154\n",
            "Epoch 72/80\n",
            "7/7 [==============================] - 0s 6ms/step - loss: 4.0119 - mae: 1.4499 - mse: 4.0119 - val_loss: 8.9632 - val_mae: 2.2879 - val_mse: 8.9632\n",
            "Epoch 73/80\n",
            "7/7 [==============================] - 0s 6ms/step - loss: 3.7154 - mae: 1.3804 - mse: 3.7154 - val_loss: 9.1443 - val_mae: 2.3687 - val_mse: 9.1443\n",
            "Epoch 74/80\n",
            "7/7 [==============================] - 0s 6ms/step - loss: 3.7876 - mae: 1.4077 - mse: 3.7876 - val_loss: 9.2285 - val_mae: 2.3574 - val_mse: 9.2285\n",
            "Epoch 75/80\n",
            "7/7 [==============================] - 0s 6ms/step - loss: 3.6774 - mae: 1.4022 - mse: 3.6774 - val_loss: 9.1880 - val_mae: 2.3369 - val_mse: 9.1880\n",
            "Epoch 76/80\n",
            "7/7 [==============================] - 0s 6ms/step - loss: 3.6078 - mae: 1.3806 - mse: 3.6078 - val_loss: 9.2562 - val_mae: 2.3654 - val_mse: 9.2562\n",
            "Epoch 77/80\n",
            "7/7 [==============================] - 0s 6ms/step - loss: 3.6868 - mae: 1.4033 - mse: 3.6868 - val_loss: 9.4431 - val_mae: 2.3752 - val_mse: 9.4431\n",
            "Epoch 78/80\n",
            "7/7 [==============================] - 0s 6ms/step - loss: 3.7481 - mae: 1.4192 - mse: 3.7481 - val_loss: 8.9624 - val_mae: 2.3003 - val_mse: 8.9624\n",
            "Epoch 79/80\n",
            "7/7 [==============================] - 0s 6ms/step - loss: 3.7494 - mae: 1.3919 - mse: 3.7494 - val_loss: 9.0585 - val_mae: 2.3420 - val_mse: 9.0585\n",
            "Epoch 80/80\n",
            "7/7 [==============================] - 0s 6ms/step - loss: 3.5519 - mae: 1.3783 - mse: 3.5519 - val_loss: 9.4449 - val_mae: 2.3811 - val_mse: 9.4449\n"
          ]
        }
      ]
    },
    {
      "cell_type": "code",
      "source": [
        "results = model.evaluate(X_test_processed, y_test, batch_size=128)"
      ],
      "metadata": {
        "colab": {
          "base_uri": "https://localhost:8080/"
        },
        "id": "QO-B3ZXi18uZ",
        "outputId": "c956e10a-3206-457c-ac9d-d7d2e5a3dec5"
      },
      "execution_count": 61,
      "outputs": [
        {
          "output_type": "stream",
          "name": "stdout",
          "text": [
            "1/1 [==============================] - 0s 82ms/step - loss: 10.2141 - mae: 2.1834 - mse: 10.2141\n"
          ]
        }
      ]
    },
    {
      "cell_type": "code",
      "source": [
        "# Visualize the loss\n",
        "plt.plot(history.history['loss'], label='Train loss')\n",
        "plt.plot(history.history['val_loss'], label='Test Loss')\n",
        "plt.legend();"
      ],
      "metadata": {
        "colab": {
          "base_uri": "https://localhost:8080/",
          "height": 265
        },
        "id": "XQvU4u2BzSaw",
        "outputId": "eead89ba-3ad9-4b63-fe38-155a6663e305"
      },
      "execution_count": 72,
      "outputs": [
        {
          "output_type": "display_data",
          "data": {
            "text/plain": [
              "<Figure size 432x288 with 1 Axes>"
            ],
            "image/png": "[encoded data removed]"
          },
          "metadata": {
            "needs_background": "light"
          }
        }
      ]
    },
    {
      "cell_type": "code",
      "source": [
        "# Con Early Stopping\n",
        "model1 = Sequential()\n",
        "\n",
        "input_shape = X_train_pca.shape[1]\n",
        "print('Input shape:', input_shape)\n",
        "\n",
        "# First hidden layer\n",
        "model1.add(Dense(4000, # How many neurons you have in your first hidden layer\n",
        "                input_dim = input_shape, # What is the shape of your input features (number of columns)\n",
        "                activation = 'relu')) # What activation function are you using?\n",
        "# Second hidden layer\n",
        "model1.add(Dense(3500, # How many neurons you have in your second hidden layer\n",
        "                activation = 'relu')) # What activation function are you using?\n",
        "# Third hidden layer\n",
        "model1.add(Dense(2500, # How many neurons you have in your first hidden layer\n",
        "                input_dim = input_shape, # What is the shape of your input features (number of columns)\n",
        "                activation = 'relu')) # What activation function are you using?\n",
        "# Fourth hidden layer\n",
        "model1.add(Dense(1000, # How many neurons you have in your second hidden layer\n",
        "                activation = 'relu')) # What activation function are you using?\n",
        "# Output layer --> Esta capa de salida tiene 1 sola neurona y siempre se trabaja con 1 y función sigmoide al tener un problema de clasificación\n",
        "model1.add(Dense(1, activation = 'linear')) \n",
        "\n",
        "model1.compile(loss = 'mse', optimizer = 'adam', metrics=['mae', 'mse'])\n",
        "early_stopping = EarlyStopping(patience = 5)\n",
        "\n",
        "model1.summary()\n",
        "history = model1.fit(X_train_pca, y_train, epochs=80, validation_split = 0.2, callbacks = [early_stopping])\n",
        "\n",
        "# Visualize the loss\n",
        "plt.plot(history.history['loss'], label='Train loss')\n",
        "plt.plot(history.history['val_loss'], label='Test Loss')\n",
        "plt.legend();"
      ],
      "metadata": {
        "colab": {
          "base_uri": "https://localhost:8080/",
          "height": 1000
        },
        "id": "t6MjZcOR1f1k",
        "outputId": "4120ad62-951e-4028-8f1c-86dd20eadf0d"
      },
      "execution_count": 79,
      "outputs": [
        {
          "output_type": "stream",
          "name": "stdout",
          "text": [
            "Input shape: 13\n",
            "Model: \"sequential_22\"\n",
            "_________________________________________________________________\n",
            " Layer (type)                Output Shape              Param #   \n",
            "=================================================================\n",
            " dense_70 (Dense)            (None, 4000)              56000     \n",
            "                                                                 \n",
            " dense_71 (Dense)            (None, 3500)              14003500  \n",
            "                                                                 \n",
            " dense_72 (Dense)            (None, 2500)              8752500   \n",
            "                                                                 \n",
            " dense_73 (Dense)            (None, 1000)              2501000   \n",
            "                                                                 \n",
            " dense_74 (Dense)            (None, 1)                 1001      \n",
            "                                                                 \n",
            "=================================================================\n",
            "Total params: 25,314,001\n",
            "Trainable params: 25,314,001\n",
            "Non-trainable params: 0\n",
            "_________________________________________________________________\n",
            "Epoch 1/80\n",
            "7/7 [==============================] - 1s 144ms/step - loss: 228.6345 - mae: 11.8115 - mse: 228.6345 - val_loss: 80.3370 - val_mae: 7.6490 - val_mse: 80.3370\n",
            "Epoch 2/80\n",
            "7/7 [==============================] - 1s 196ms/step - loss: 39.0969 - mae: 4.8982 - mse: 39.0969 - val_loss: 25.6264 - val_mae: 4.3189 - val_mse: 25.6264\n",
            "Epoch 3/80\n",
            "7/7 [==============================] - 2s 216ms/step - loss: 23.3925 - mae: 4.0152 - mse: 23.3925 - val_loss: 31.4460 - val_mae: 4.8539 - val_mse: 31.4460\n",
            "Epoch 4/80\n",
            "7/7 [==============================] - 1s 125ms/step - loss: 22.5037 - mae: 3.7080 - mse: 22.5037 - val_loss: 15.9299 - val_mae: 3.2485 - val_mse: 15.9299\n",
            "Epoch 5/80\n",
            "7/7 [==============================] - 1s 127ms/step - loss: 17.9623 - mae: 3.3289 - mse: 17.9623 - val_loss: 13.9605 - val_mae: 3.0897 - val_mse: 13.9605\n",
            "Epoch 6/80\n",
            "7/7 [==============================] - 1s 127ms/step - loss: 13.5539 - mae: 2.8164 - mse: 13.5539 - val_loss: 14.6148 - val_mae: 3.0320 - val_mse: 14.6148\n",
            "Epoch 7/80\n",
            "7/7 [==============================] - 1s 128ms/step - loss: 10.7741 - mae: 2.5131 - mse: 10.7741 - val_loss: 13.5995 - val_mae: 3.1983 - val_mse: 13.5995\n",
            "Epoch 8/80\n",
            "7/7 [==============================] - 1s 126ms/step - loss: 10.3799 - mae: 2.3906 - mse: 10.3799 - val_loss: 12.8284 - val_mae: 2.8925 - val_mse: 12.8284\n",
            "Epoch 9/80\n",
            "7/7 [==============================] - 1s 127ms/step - loss: 10.7000 - mae: 2.4493 - mse: 10.7000 - val_loss: 11.0029 - val_mae: 2.7070 - val_mse: 11.0029\n",
            "Epoch 10/80\n",
            "7/7 [==============================] - 1s 125ms/step - loss: 9.3844 - mae: 2.3252 - mse: 9.3844 - val_loss: 17.3440 - val_mae: 3.5475 - val_mse: 17.3440\n",
            "Epoch 11/80\n",
            "7/7 [==============================] - 1s 126ms/step - loss: 8.7748 - mae: 2.1798 - mse: 8.7748 - val_loss: 14.6952 - val_mae: 3.2296 - val_mse: 14.6952\n",
            "Epoch 12/80\n",
            "7/7 [==============================] - 1s 126ms/step - loss: 6.7292 - mae: 1.9815 - mse: 6.7292 - val_loss: 12.3122 - val_mae: 2.8346 - val_mse: 12.3122\n",
            "Epoch 13/80\n",
            "7/7 [==============================] - 1s 128ms/step - loss: 6.7132 - mae: 1.9790 - mse: 6.7132 - val_loss: 13.5596 - val_mae: 2.8732 - val_mse: 13.5596\n",
            "Epoch 14/80\n",
            "7/7 [==============================] - 1s 127ms/step - loss: 6.8296 - mae: 1.9980 - mse: 6.8296 - val_loss: 11.3540 - val_mae: 2.6303 - val_mse: 11.3540\n"
          ]
        },
        {
          "output_type": "display_data",
          "data": {
            "text/plain": [
              "<Figure size 432x288 with 1 Axes>"
            ],
            "image/png": "[encoded data removed]"
          },
          "metadata": {
            "needs_background": "light"
          }
        }
      ]
    },
    {
      "cell_type": "code",
      "source": [
        "# Con L2\n",
        "model2 = Sequential()\n",
        "\n",
        "input_shape = X_train_pca.shape[1]\n",
        "print('Input shape:', input_shape)\n",
        "\n",
        "# First hidden layer\n",
        "model2.add(Dense(3000, # How many neurons you have in your first hidden layer\n",
        "                input_dim = input_shape, # What is the shape of your input features (number of columns)\n",
        "                activation = 'relu',\n",
        "                kernel_regularizer=l2(0.09))) # What activation function are you using?\n",
        "# Second hidden layer\n",
        "model2.add(Dense(2500, # How many neurons you have in your second hidden layer\n",
        "                activation = 'relu',\n",
        "                kernel_regularizer=l2(0.09))) # What activation function are you using?\n",
        "# Output layer --> Esta capa de salida tiene 1 sola neurona y siempre se trabaja con 1 y función sigmoide al tener un problema de clasificación\n",
        "model2.add(Dense(1, activation = 'linear')) \n",
        "model2.compile(loss = 'mse', optimizer = 'adam', metrics=['mae', 'mse'])\n",
        "model2.summary()\n",
        "history = model2.fit(X_train_pca, y_train, epochs=80, validation_split = 0.2)\n",
        "\n",
        "# Visualize the loss\n",
        "plt.plot(history.history['loss'], label='Train loss')\n",
        "plt.plot(history.history['val_loss'], label='Test Loss')\n",
        "plt.legend();"
      ],
      "metadata": {
        "colab": {
          "base_uri": "https://localhost:8080/",
          "height": 1000
        },
        "id": "GYEycLczAbtk",
        "outputId": "535957f2-c6cf-4639-d546-1b55a3382c0f"
      },
      "execution_count": 88,
      "outputs": [
        {
          "output_type": "stream",
          "name": "stdout",
          "text": [
            "Input shape: 13\n",
            "Model: \"sequential_31\"\n",
            "_________________________________________________________________\n",
            " Layer (type)                Output Shape              Param #   \n",
            "=================================================================\n",
            " dense_99 (Dense)            (None, 3000)              42000     \n",
            "                                                                 \n",
            " dense_100 (Dense)           (None, 2500)              7502500   \n",
            "                                                                 \n",
            " dense_101 (Dense)           (None, 1)                 2501      \n",
            "                                                                 \n",
            "=================================================================\n",
            "Total params: 7,547,001\n",
            "Trainable params: 7,547,001\n",
            "Non-trainable params: 0\n",
            "_________________________________________________________________\n",
            "Epoch 1/80\n",
            "7/7 [==============================] - 1s 76ms/step - loss: 598.5412 - mae: 17.1543 - mse: 367.4014 - val_loss: 273.1238 - val_mae: 6.6490 - val_mse: 65.0928\n",
            "Epoch 2/80\n",
            "7/7 [==============================] - 0s 53ms/step - loss: 261.0385 - mae: 6.7014 - mse: 67.6952 - val_loss: 205.6957 - val_mae: 5.1899 - val_mse: 41.2674\n",
            "Epoch 3/80\n",
            "7/7 [==============================] - 0s 54ms/step - loss: 183.4462 - mae: 5.1030 - mse: 36.3595 - val_loss: 164.0137 - val_mae: 5.6858 - val_mse: 41.8040\n",
            "Epoch 4/80\n",
            "7/7 [==============================] - 0s 56ms/step - loss: 142.3426 - mae: 4.6352 - mse: 30.4376 - val_loss: 114.3691 - val_mae: 3.2603 - val_mse: 16.5973\n",
            "Epoch 5/80\n",
            "7/7 [==============================] - 0s 54ms/step - loss: 105.9561 - mae: 3.0788 - mse: 15.1734 - val_loss: 95.7429 - val_mae: 3.3562 - val_mse: 16.7214\n",
            "Epoch 6/80\n",
            "7/7 [==============================] - 0s 55ms/step - loss: 84.5438 - mae: 2.6343 - mse: 12.0240 - val_loss: 77.8571 - val_mae: 3.1221 - val_mse: 15.0310\n",
            "Epoch 7/80\n",
            "7/7 [==============================] - 0s 53ms/step - loss: 71.1706 - mae: 2.6707 - mse: 12.7625 - val_loss: 64.8597 - val_mae: 2.9225 - val_mse: 12.9436\n",
            "Epoch 8/80\n",
            "7/7 [==============================] - 0s 54ms/step - loss: 58.4366 - mae: 2.3917 - mse: 10.0090 - val_loss: 56.2969 - val_mae: 3.0486 - val_mse: 13.4997\n",
            "Epoch 9/80\n",
            "7/7 [==============================] - 0s 57ms/step - loss: 49.7804 - mae: 2.3605 - mse: 9.8490 - val_loss: 48.5834 - val_mae: 2.9626 - val_mse: 12.9429\n",
            "Epoch 10/80\n",
            "7/7 [==============================] - 0s 54ms/step - loss: 42.7465 - mae: 2.2491 - mse: 9.2321 - val_loss: 42.6519 - val_mae: 2.9024 - val_mse: 12.4459\n",
            "Epoch 11/80\n",
            "7/7 [==============================] - 0s 53ms/step - loss: 37.0034 - mae: 2.1627 - mse: 8.5787 - val_loss: 37.4652 - val_mae: 2.8440 - val_mse: 11.9129\n",
            "Epoch 12/80\n",
            "7/7 [==============================] - 0s 53ms/step - loss: 32.9313 - mae: 2.2109 - mse: 8.9018 - val_loss: 34.1853 - val_mae: 2.8154 - val_mse: 11.9370\n",
            "Epoch 13/80\n",
            "7/7 [==============================] - 0s 54ms/step - loss: 29.4474 - mae: 2.1120 - mse: 8.1048 - val_loss: 31.5936 - val_mae: 2.8702 - val_mse: 12.2576\n",
            "Epoch 14/80\n",
            "7/7 [==============================] - 0s 56ms/step - loss: 26.2080 - mae: 2.0638 - mse: 7.9105 - val_loss: 28.8067 - val_mae: 2.7312 - val_mse: 11.7618\n",
            "Epoch 15/80\n",
            "7/7 [==============================] - 0s 55ms/step - loss: 23.8287 - mae: 2.0046 - mse: 7.3973 - val_loss: 27.1865 - val_mae: 2.7320 - val_mse: 11.7544\n",
            "Epoch 16/80\n",
            "7/7 [==============================] - 0s 54ms/step - loss: 21.9533 - mae: 2.0212 - mse: 7.2347 - val_loss: 24.5761 - val_mae: 2.7010 - val_mse: 11.1699\n",
            "Epoch 17/80\n",
            "7/7 [==============================] - 0s 56ms/step - loss: 20.5521 - mae: 2.0588 - mse: 7.5460 - val_loss: 23.2445 - val_mae: 2.5944 - val_mse: 10.6450\n",
            "Epoch 18/80\n",
            "7/7 [==============================] - 0s 54ms/step - loss: 18.7280 - mae: 1.9497 - mse: 6.7339 - val_loss: 21.2941 - val_mae: 2.4993 - val_mse: 10.2436\n",
            "Epoch 19/80\n",
            "7/7 [==============================] - 0s 53ms/step - loss: 17.9670 - mae: 1.9637 - mse: 7.0792 - val_loss: 21.7995 - val_mae: 2.7241 - val_mse: 11.0804\n",
            "Epoch 20/80\n",
            "7/7 [==============================] - 0s 58ms/step - loss: 16.7287 - mae: 1.8624 - mse: 6.4893 - val_loss: 20.2234 - val_mae: 2.6153 - val_mse: 10.6528\n",
            "Epoch 21/80\n",
            "7/7 [==============================] - 0s 53ms/step - loss: 15.8111 - mae: 1.8678 - mse: 6.3283 - val_loss: 18.5168 - val_mae: 2.4408 - val_mse: 9.4441\n",
            "Epoch 22/80\n",
            "7/7 [==============================] - 0s 56ms/step - loss: 15.0778 - mae: 1.8434 - mse: 6.3104 - val_loss: 18.8052 - val_mae: 2.5411 - val_mse: 10.0552\n",
            "Epoch 23/80\n",
            "7/7 [==============================] - 0s 54ms/step - loss: 15.2906 - mae: 1.9967 - mse: 6.8190 - val_loss: 18.4548 - val_mae: 2.5811 - val_mse: 10.6137\n",
            "Epoch 24/80\n",
            "7/7 [==============================] - 0s 55ms/step - loss: 14.2073 - mae: 1.8898 - mse: 6.2208 - val_loss: 16.6682 - val_mae: 2.3184 - val_mse: 9.0101\n",
            "Epoch 25/80\n",
            "7/7 [==============================] - 0s 54ms/step - loss: 13.5420 - mae: 1.8074 - mse: 6.0234 - val_loss: 16.4665 - val_mae: 2.3552 - val_mse: 9.0422\n",
            "Epoch 26/80\n",
            "7/7 [==============================] - 0s 53ms/step - loss: 12.9427 - mae: 1.7989 - mse: 5.7224 - val_loss: 16.7674 - val_mae: 2.4259 - val_mse: 9.8552\n",
            "Epoch 27/80\n",
            "7/7 [==============================] - 0s 54ms/step - loss: 12.8476 - mae: 1.7702 - mse: 5.8752 - val_loss: 15.9117 - val_mae: 2.3796 - val_mse: 9.3152\n",
            "Epoch 28/80\n",
            "7/7 [==============================] - 0s 55ms/step - loss: 12.3581 - mae: 1.7262 - mse: 5.7750 - val_loss: 17.0600 - val_mae: 2.4985 - val_mse: 10.2414\n",
            "Epoch 29/80\n",
            "7/7 [==============================] - 0s 54ms/step - loss: 13.0353 - mae: 1.9456 - mse: 6.6742 - val_loss: 16.7515 - val_mae: 2.4921 - val_mse: 10.3249\n",
            "Epoch 30/80\n",
            "7/7 [==============================] - 0s 54ms/step - loss: 12.0575 - mae: 1.7789 - mse: 5.6989 - val_loss: 15.5367 - val_mae: 2.4140 - val_mse: 9.7102\n",
            "Epoch 31/80\n",
            "7/7 [==============================] - 0s 54ms/step - loss: 11.7896 - mae: 1.7762 - mse: 5.7342 - val_loss: 15.1148 - val_mae: 2.3905 - val_mse: 9.2384\n",
            "Epoch 32/80\n",
            "7/7 [==============================] - 0s 55ms/step - loss: 11.7044 - mae: 1.8109 - mse: 5.8781 - val_loss: 15.3775 - val_mae: 2.4155 - val_mse: 9.6577\n",
            "Epoch 33/80\n",
            "7/7 [==============================] - 0s 56ms/step - loss: 12.0050 - mae: 1.9061 - mse: 6.3658 - val_loss: 17.8951 - val_mae: 2.7017 - val_mse: 11.9973\n",
            "Epoch 34/80\n",
            "7/7 [==============================] - 0s 55ms/step - loss: 11.6685 - mae: 1.9564 - mse: 6.1347 - val_loss: 16.0435 - val_mae: 2.5621 - val_mse: 10.3629\n",
            "Epoch 35/80\n",
            "7/7 [==============================] - 0s 53ms/step - loss: 12.8464 - mae: 2.0438 - mse: 7.2247 - val_loss: 15.9141 - val_mae: 2.6234 - val_mse: 10.8320\n",
            "Epoch 36/80\n",
            "7/7 [==============================] - 0s 55ms/step - loss: 11.8863 - mae: 1.8491 - mse: 6.3947 - val_loss: 15.8918 - val_mae: 2.5088 - val_mse: 10.8708\n",
            "Epoch 37/80\n",
            "7/7 [==============================] - 0s 55ms/step - loss: 12.5073 - mae: 2.0041 - mse: 7.2749 - val_loss: 14.0648 - val_mae: 2.3080 - val_mse: 8.8819\n",
            "Epoch 38/80\n",
            "7/7 [==============================] - 0s 54ms/step - loss: 12.3949 - mae: 2.0901 - mse: 7.3639 - val_loss: 19.1669 - val_mae: 2.8006 - val_mse: 13.5019\n",
            "Epoch 39/80\n",
            "7/7 [==============================] - 0s 53ms/step - loss: 12.2875 - mae: 2.0682 - mse: 7.1110 - val_loss: 13.7855 - val_mae: 2.2041 - val_mse: 8.7392\n",
            "Epoch 40/80\n",
            "7/7 [==============================] - 0s 53ms/step - loss: 10.7937 - mae: 1.7876 - mse: 5.6494 - val_loss: 14.8260 - val_mae: 2.3508 - val_mse: 10.0026\n",
            "Epoch 41/80\n",
            "7/7 [==============================] - 0s 55ms/step - loss: 10.5547 - mae: 1.7356 - mse: 5.5822 - val_loss: 13.5486 - val_mae: 2.2888 - val_mse: 8.5430\n",
            "Epoch 42/80\n",
            "7/7 [==============================] - 0s 54ms/step - loss: 10.4182 - mae: 1.7050 - mse: 5.4141 - val_loss: 16.2695 - val_mae: 2.6769 - val_mse: 11.7783\n",
            "Epoch 43/80\n",
            "7/7 [==============================] - 0s 54ms/step - loss: 11.4180 - mae: 2.0108 - mse: 6.5680 - val_loss: 13.7714 - val_mae: 2.3108 - val_mse: 9.2663\n",
            "Epoch 44/80\n",
            "7/7 [==============================] - 0s 56ms/step - loss: 10.6920 - mae: 1.8111 - mse: 6.0151 - val_loss: 12.6182 - val_mae: 2.0645 - val_mse: 7.8876\n",
            "Epoch 45/80\n",
            "7/7 [==============================] - 0s 53ms/step - loss: 10.1005 - mae: 1.7743 - mse: 5.5128 - val_loss: 13.8413 - val_mae: 2.3191 - val_mse: 9.1089\n",
            "Epoch 46/80\n",
            "7/7 [==============================] - 0s 54ms/step - loss: 10.6587 - mae: 1.8508 - mse: 6.1375 - val_loss: 12.9584 - val_mae: 2.1667 - val_mse: 8.2717\n",
            "Epoch 47/80\n",
            "7/7 [==============================] - 0s 56ms/step - loss: 10.5685 - mae: 1.8057 - mse: 6.1407 - val_loss: 15.6919 - val_mae: 2.6099 - val_mse: 10.8611\n",
            "Epoch 48/80\n",
            "7/7 [==============================] - 0s 53ms/step - loss: 9.7952 - mae: 1.7165 - mse: 5.3334 - val_loss: 12.4520 - val_mae: 2.1606 - val_mse: 8.1186\n",
            "Epoch 49/80\n",
            "7/7 [==============================] - 0s 54ms/step - loss: 9.1874 - mae: 1.6539 - mse: 4.7645 - val_loss: 12.6766 - val_mae: 2.1612 - val_mse: 8.4568\n",
            "Epoch 50/80\n",
            "7/7 [==============================] - 0s 57ms/step - loss: 9.5208 - mae: 1.7677 - mse: 5.1816 - val_loss: 12.3260 - val_mae: 2.2150 - val_mse: 8.1649\n",
            "Epoch 51/80\n",
            "7/7 [==============================] - 0s 56ms/step - loss: 8.8310 - mae: 1.6235 - mse: 4.5710 - val_loss: 11.5985 - val_mae: 2.0225 - val_mse: 7.3966\n",
            "Epoch 52/80\n",
            "7/7 [==============================] - 0s 55ms/step - loss: 9.1413 - mae: 1.6980 - mse: 4.9647 - val_loss: 15.3175 - val_mae: 2.6321 - val_mse: 10.8311\n",
            "Epoch 53/80\n",
            "7/7 [==============================] - 0s 53ms/step - loss: 10.2825 - mae: 1.8950 - mse: 6.1137 - val_loss: 12.6796 - val_mae: 2.2588 - val_mse: 8.4014\n",
            "Epoch 54/80\n",
            "7/7 [==============================] - 0s 54ms/step - loss: 9.4367 - mae: 1.7008 - mse: 5.3829 - val_loss: 15.1274 - val_mae: 2.5433 - val_mse: 10.7333\n",
            "Epoch 55/80\n",
            "7/7 [==============================] - 0s 56ms/step - loss: 10.6905 - mae: 2.0544 - mse: 6.6789 - val_loss: 17.2467 - val_mae: 2.9003 - val_mse: 12.8449\n",
            "Epoch 56/80\n",
            "7/7 [==============================] - 0s 55ms/step - loss: 11.8459 - mae: 2.1686 - mse: 7.7751 - val_loss: 13.3524 - val_mae: 2.3306 - val_mse: 9.1987\n",
            "Epoch 57/80\n",
            "7/7 [==============================] - 0s 55ms/step - loss: 10.3568 - mae: 1.8397 - mse: 6.2686 - val_loss: 12.7844 - val_mae: 2.3312 - val_mse: 9.0135\n",
            "Epoch 58/80\n",
            "7/7 [==============================] - 0s 54ms/step - loss: 9.1064 - mae: 1.6604 - mse: 5.0929 - val_loss: 12.1843 - val_mae: 2.1991 - val_mse: 8.4584\n",
            "Epoch 59/80\n",
            "7/7 [==============================] - 0s 54ms/step - loss: 9.3493 - mae: 1.7607 - mse: 5.4047 - val_loss: 11.6839 - val_mae: 2.0647 - val_mse: 7.8619\n",
            "Epoch 60/80\n",
            "7/7 [==============================] - 0s 54ms/step - loss: 8.9238 - mae: 1.6716 - mse: 5.0371 - val_loss: 12.9825 - val_mae: 2.4013 - val_mse: 9.1612\n",
            "Epoch 61/80\n",
            "7/7 [==============================] - 0s 53ms/step - loss: 8.7349 - mae: 1.6990 - mse: 4.8509 - val_loss: 11.5231 - val_mae: 2.0023 - val_mse: 7.7141\n",
            "Epoch 62/80\n",
            "7/7 [==============================] - 0s 54ms/step - loss: 8.5875 - mae: 1.6279 - mse: 4.7279 - val_loss: 11.9913 - val_mae: 2.2813 - val_mse: 8.3469\n",
            "Epoch 63/80\n",
            "7/7 [==============================] - 0s 54ms/step - loss: 8.5175 - mae: 1.6447 - mse: 4.7845 - val_loss: 11.5975 - val_mae: 2.1035 - val_mse: 7.9137\n",
            "Epoch 64/80\n",
            "7/7 [==============================] - 0s 53ms/step - loss: 8.2541 - mae: 1.6108 - mse: 4.5877 - val_loss: 11.0927 - val_mae: 2.0198 - val_mse: 7.3672\n",
            "Epoch 65/80\n",
            "7/7 [==============================] - 0s 53ms/step - loss: 7.8134 - mae: 1.4808 - mse: 4.1311 - val_loss: 14.3845 - val_mae: 2.5614 - val_mse: 11.0992\n",
            "Epoch 66/80\n",
            "7/7 [==============================] - 0s 54ms/step - loss: 9.6209 - mae: 1.8930 - mse: 6.0139 - val_loss: 11.4138 - val_mae: 2.0944 - val_mse: 7.9303\n",
            "Epoch 67/80\n",
            "7/7 [==============================] - 0s 54ms/step - loss: 8.6518 - mae: 1.7635 - mse: 5.1652 - val_loss: 13.6450 - val_mae: 2.5345 - val_mse: 9.8899\n",
            "Epoch 68/80\n",
            "7/7 [==============================] - 0s 55ms/step - loss: 8.3875 - mae: 1.6401 - mse: 4.9031 - val_loss: 13.1898 - val_mae: 2.4188 - val_mse: 9.4867\n",
            "Epoch 69/80\n",
            "7/7 [==============================] - 0s 54ms/step - loss: 8.7742 - mae: 1.6646 - mse: 5.2620 - val_loss: 11.2476 - val_mae: 2.0677 - val_mse: 7.6102\n",
            "Epoch 70/80\n",
            "7/7 [==============================] - 0s 54ms/step - loss: 8.3045 - mae: 1.7166 - mse: 4.7926 - val_loss: 11.1643 - val_mae: 2.1831 - val_mse: 7.7584\n",
            "Epoch 71/80\n",
            "7/7 [==============================] - 0s 55ms/step - loss: 9.3962 - mae: 1.9187 - mse: 5.8376 - val_loss: 14.7423 - val_mae: 2.8374 - val_mse: 11.6208\n",
            "Epoch 72/80\n",
            "7/7 [==============================] - 0s 54ms/step - loss: 9.8916 - mae: 2.0456 - mse: 6.4371 - val_loss: 17.8844 - val_mae: 2.8774 - val_mse: 14.7978\n",
            "Epoch 73/80\n",
            "7/7 [==============================] - 0s 54ms/step - loss: 11.0945 - mae: 2.0943 - mse: 7.6890 - val_loss: 13.3938 - val_mae: 2.5969 - val_mse: 10.2924\n",
            "Epoch 74/80\n",
            "7/7 [==============================] - 0s 58ms/step - loss: 10.8581 - mae: 2.1953 - mse: 7.5025 - val_loss: 11.4382 - val_mae: 2.1993 - val_mse: 8.1133\n",
            "Epoch 75/80\n",
            "7/7 [==============================] - 0s 54ms/step - loss: 9.3704 - mae: 1.8840 - mse: 6.0211 - val_loss: 10.6884 - val_mae: 2.0954 - val_mse: 7.3698\n",
            "Epoch 76/80\n",
            "7/7 [==============================] - 0s 55ms/step - loss: 12.2108 - mae: 2.3053 - mse: 8.8802 - val_loss: 12.1824 - val_mae: 2.2467 - val_mse: 8.6312\n",
            "Epoch 77/80\n",
            "7/7 [==============================] - 0s 55ms/step - loss: 9.9809 - mae: 2.0316 - mse: 6.6200 - val_loss: 14.1674 - val_mae: 2.4001 - val_mse: 10.4842\n",
            "Epoch 78/80\n",
            "7/7 [==============================] - 0s 53ms/step - loss: 8.8559 - mae: 1.8863 - mse: 5.4726 - val_loss: 11.2616 - val_mae: 2.1339 - val_mse: 7.7890\n",
            "Epoch 79/80\n",
            "7/7 [==============================] - 0s 55ms/step - loss: 8.2317 - mae: 1.5859 - mse: 4.8239 - val_loss: 11.3135 - val_mae: 2.0499 - val_mse: 7.8413\n",
            "Epoch 80/80\n",
            "7/7 [==============================] - 0s 54ms/step - loss: 9.4175 - mae: 1.8927 - mse: 6.0883 - val_loss: 11.8868 - val_mae: 2.2966 - val_mse: 8.4214\n"
          ]
        },
        {
          "output_type": "display_data",
          "data": {
            "text/plain": [
              "<Figure size 432x288 with 1 Axes>"
            ],
            "image/png": "[encoded data removed]"
          },
          "metadata": {
            "needs_background": "light"
          }
        }
      ]
    },
    {
      "cell_type": "code",
      "source": [
        "# INSTANCIA DEL MODELO\n",
        "dec_tree = DecisionTreeRegressor(max_depth = 7, random_state = 42)  \n",
        "# SE DEBE BUSCAR LA PROFUNDIDAD MÁXIMA A MANO PARA ELEGIR LA QUE MEJOR SE ADECÚA\n",
        "\n",
        "dec_tree.get_params() # SE MUESTRAN TODOS LOS PARÁMETROS"
      ],
      "metadata": {
        "id": "uFhi1Up7FCIk"
      },
      "execution_count": null,
      "outputs": []
    },
    {
      "cell_type": "code",
      "source": [
        "# AJUSTAR EL MODELO A DATOS DE ENTRENAMIENTO\n",
        "dec_tree.fit(X_train_processed, y_train)"
      ],
      "metadata": {
        "id": "RHyXwli-FSe3"
      },
      "execution_count": null,
      "outputs": []
    },
    {
      "cell_type": "code",
      "source": [
        "# PREDICCIONES\n",
        "train_preds = dec_tree.predict(X_train_processed)\n",
        "test_preds = dec_tree.predict(X_test_processed)"
      ],
      "metadata": {
        "id": "XdYozIBXFSgz"
      },
      "execution_count": 104,
      "outputs": []
    },
    {
      "cell_type": "code",
      "source": [
        "# EVALUACIÓN DEL MODELO\n",
        "train_score = dec_tree.score(X_train_processed, y_train)\n",
        "test_score = dec_tree.score(X_test_processed, y_test)\n",
        "print('Dec Tree Train Score', train_score)\n",
        "print('Dec Tree Test Score', test_score)\n",
        "\n",
        "dec_tree_train_mae = mean_absolute_error(y_train, train_preds)\n",
        "dec_tree_test_mae = mean_absolute_error(y_test, test_preds)\n",
        "\n",
        "print('Dec Tree EAM Train', dec_tree_train_mae)\n",
        "print('Dec Tree EAM Test', dec_tree_test_mae)\n",
        "\n",
        "#7. EVALUAR EL MODELO USANDO EL ERROR CUADRÁTICO MEDIO (ECM)\n",
        "dectree_mse_train = mean_squared_error(y_train, train_preds)\n",
        "dectree_mse_test = mean_squared_error(y_test, test_preds)\n",
        "\n",
        "print('MSE Train', dectree_mse_train)\n",
        "print('MSE Test', dectree_mse_test)\n",
        "\n",
        "#8. EVALUAR EL MODELO USANDO LA RAÍZ DEL ERROR CUADRÁTICO MEDIO (RECM)\n",
        "dectree_rmse_train = np.sqrt(mean_squared_error(y_train, train_preds))\n",
        "dectree_rmse_test = np.sqrt(mean_squared_error(y_test, test_preds))\n",
        "\n",
        "print('RMSE Train', dectree_rmse_train)\n",
        "print('RMSE Test', dectree_rmse_test)\n"
      ],
      "metadata": {
        "colab": {
          "base_uri": "https://localhost:8080/"
        },
        "id": "hP2zb2TDFSkM",
        "outputId": "cfad29b9-8d91-42e8-af66-8d4ed24203bb"
      },
      "execution_count": 105,
      "outputs": [
        {
          "output_type": "stream",
          "name": "stdout",
          "text": [
            "Dec Tree Train Score 0.9762138656681376\n",
            "Dec Tree Test Score 0.7715364508969077\n",
            "Dec Tree EAM Train 0.8009351692484225\n",
            "Dec Tree EAM Test 2.594635265010326\n",
            "MSE Train 1.4219584050487664\n",
            "MSE Test 14.733589881810326\n",
            "RMSE Train 1.1924589741575038\n",
            "RMSE Test 3.8384358639698966\n"
          ]
        }
      ]
    },
    {
      "cell_type": "code",
      "source": [
        "#4. SE INSTANCIA MODELO DE REGRESIÓN LINEAL\n",
        "reg = LinearRegression()\n",
        "\n",
        "#4. SE AJUSTA EL MODELO A LOS DATOS DE ENTRENAMIENTO\n",
        "reg.fit(X_train_processed,y_train)"
      ],
      "metadata": {
        "id": "CcouN61rGGke"
      },
      "execution_count": null,
      "outputs": []
    },
    {
      "cell_type": "code",
      "source": [
        "# Obtengan las predicciones del conjunto de entrenamiento\n",
        "train_preds = reg.predict(X_train_processed)\n",
        "# Obtengan las predicciones del conjunto de prueba\n",
        "test_preds = reg.predict(X_test_processed)\n",
        "\n",
        "#COEFICIENTE DE DETERMINACIÓN SKLEARN\n",
        "r2_train = r2_score(y_train, train_preds)\n",
        "r2_test = r2_score(y_test, test_preds)\n",
        "\n",
        "print('R2 Train', r2_train) #SON LOS MISMOS NÚMEROS CON AMBOS R^2\n",
        "print('R2 Test', r2_test) #SON LOS MISMOS NÚMEROS CON AMBOS R^2\n",
        "\n",
        "#6. EVALUAR EL MODELO USANDO EL ERROR ABSOLUTO MEDIO (EAM)\n",
        "eam_train = mean_absolute_error(y_train, train_preds)\n",
        "eam_test = mean_absolute_error(y_test, test_preds)\n",
        "\n",
        "print('EAM Train', eam_train)\n",
        "print('EAM Test', eam_test)\n",
        "\n",
        "#7. EVALUAR EL MODELO USANDO EL ERROR CUADRÁTICO MEDIO (ECM)\n",
        "mse_train = mean_squared_error(y_train, train_preds)\n",
        "mse_test = mean_squared_error(y_test, test_preds)\n",
        "\n",
        "print('MSE Train', mse_train)\n",
        "print('MSE Test', mse_test)\n",
        "\n",
        "#8. EVALUAR EL MODELO USANDO LA RAÍZ DEL ERROR CUADRÁTICO MEDIO (RECM)\n",
        "rmse_train = np.sqrt(mean_squared_error(y_train, train_preds))\n",
        "rmse_test = np.sqrt(mean_squared_error(y_test, test_preds))\n",
        "\n",
        "print('RMSE Train', rmse_train)\n",
        "print('RMSE Test', rmse_test)"
      ],
      "metadata": {
        "colab": {
          "base_uri": "https://localhost:8080/"
        },
        "id": "yR0D5IJEGGn1",
        "outputId": "15d7f1d9-56c6-43e9-abd6-f4c342322109"
      },
      "execution_count": 100,
      "outputs": [
        {
          "output_type": "stream",
          "name": "stdout",
          "text": [
            "R2 Train 0.8555085469398317\n",
            "R2 Test -9.757505496798774e+17\n",
            "EAM Train 2.3156014683734942\n",
            "EAM Test 898189411.7031121\n",
            "MSE Train 8.637840570058211\n",
            "MSE Test 6.292604873894836e+19\n",
            "RMSE Train 2.939020341892552\n",
            "RMSE Test 7932594073.75345\n"
          ]
        }
      ]
    },
    {
      "cell_type": "markdown",
      "source": [
        "Los modelos que se utilizaron fueron los siguientes:\n",
        "- Modelo Secuencial sin Regularización\n",
        "- Modelo Secuencial con Early Stopping\n",
        "- Modelo Secuencial con Regularización L2\n",
        "- Árbol de Decisión (Regresión)\n",
        "- Modelo de Regresión Lineal\n",
        "\n",
        "De todos los modelos que se trabajaron se obtuvieron indicadores tales como el MAE, RMSE, R2 y MSE. Estos indicadores se revisaron y se fueron ajustando hiperparámetros en pro de lograr los mejores resultados posibles. El modelo que presentó por lejos los mejores resultados tanto en Train como en Test fue el Árbol de Decisión, bastante conocido y altamente utilizado, junto con el modelo de Regresión Lineal que, esta vez, no presentó buenos resultados, a diferencia del Árbol de Decisión.\n",
        "\n",
        "DECISION TREE\n",
        "Dec Tree Train Score 0.9762138656681376\n",
        "Dec Tree Test Score 0.7715364508969077\n",
        "Dec Tree EAM Test 2.594635265010326\n",
        "MSE Test 14.733589881810326\n",
        "RMSE Test 3.8384358639698966\n",
        "\n",
        "LINEAR REGRESSION\n",
        "R2 Train 0.8555085469398317\n",
        "R2 Test -9.757505496798774e+17\n",
        "EAM Test 898189411.7031121\n",
        "MSE Test 6.292604873894836e+19\n",
        "RMSE Test 7932594073.75345"
      ],
      "metadata": {
        "id": "nYh4QTB6TsIi"
      }
    }
  ]
}